{
  "nbformat": 4,
  "nbformat_minor": 0,
  "metadata": {
    "kernelspec": {
      "display_name": "Python 3",
      "language": "python",
      "name": "python3"
    },
    "language_info": {
      "codemirror_mode": {
        "name": "ipython",
        "version": 3
      },
      "file_extension": ".py",
      "mimetype": "text/x-python",
      "name": "python",
      "nbconvert_exporter": "python",
      "pygments_lexer": "ipython3",
      "version": "3.6.8"
    },
    "colab": {
      "name": "25_21727815_21526701_PredictionsAboutEpilepticSeizuresDetections_EN.ipynb",
      "provenance": [],
      "collapsed_sections": [],
      "toc_visible": true
    }
  },
  "cells": [
    {
      "cell_type": "markdown",
      "metadata": {
        "id": "bxKex93Chhrb"
      },
      "source": [
        "# Predictions About Epileptic Seizures Detections\n",
        "\n",
        "#### Ozar Ömer Uncu - 21727815 \n",
        "#### Uğurcan Bağrıyanık - 21526701\n",
        "\n",
        "In this project we used pre-processed and re-structured/reshaped version of a very commonly used dataset featuring epileptic seizure detection. Each data point is the value of the EEG recording at a different point in time.\n",
        "*   EEG(electroencephalogram) is a test that detects electrical activity in your brain using small, metal discs (electrodes) attached to your scalp.\n",
        "\n",
        "We have 5 types of reactions by have epileptic seizure or not have epileptic seizure.4 types of reactions not have seizure only rest one has seizure by features. We will be reduce our dataset to have epileptic seizure or not. We used and compared various classification methods (RandomForestClassifier, KNeighborsClassifier, SVM, Decision Tree Classifier, XGBClassifier) in the project. We choosed which contributes best accuracy score."
      ]
    },
    {
      "cell_type": "code",
      "metadata": {
        "id": "5hvzE6bihhrh"
      },
      "source": [
        "import pandas as pd\n",
        "import numpy as np\n",
        "import seaborn as sns\n",
        "import matplotlib.pyplot as plt\n",
        "from sklearn.preprocessing import LabelEncoder\n",
        "from sklearn.preprocessing import MinMaxScaler\n",
        "from sklearn.model_selection import train_test_split\n",
        "from sklearn.neighbors import KNeighborsClassifier\n",
        "from sklearn.ensemble import RandomForestClassifier\n",
        "from sklearn.svm import SVC\n",
        "from sklearn.decomposition import PCA\n",
        "from sklearn.pipeline import Pipeline\n",
        "from sklearn import svm, tree\n",
        "import xgboost\n",
        "from sklearn.metrics import accuracy_score\n",
        "from sklearn.metrics import plot_roc_curve\n",
        "from sklearn.metrics import confusion_matrix\n",
        "%matplotlib inline"
      ],
      "execution_count": null,
      "outputs": []
    },
    {
      "cell_type": "markdown",
      "metadata": {
        "id": "Zg9vDF4Ehhrh"
      },
      "source": [
        "## Table of Content\n",
        "\n",
        "[Problem](#problem)   \n",
        "[Data Understanding](#data_understanding)   \n",
        "[Data Preparation](#data_preparation)   \n",
        "[Modeling](#modeling)   \n",
        "[Evaluation](#evaluation)   \n",
        "[References](#references)   \n"
      ]
    },
    {
      "cell_type": "markdown",
      "metadata": {
        "id": "iqpZg5fChhri"
      },
      "source": [
        "## Problem <a class=\"anchor\" id=\"problem\"></a>"
      ]
    },
    {
      "cell_type": "markdown",
      "metadata": {
        "id": "MSEKywfrhhri"
      },
      "source": [
        "Epilepsy is a fairly common neurological disorder that affects 65 million people around the world. Anyone can develop epilepsy, but it’s more common in young children and older adults. It occurs slightly more in males than in females. It can predicted by humans from EEG results. It can contribute some problems at sometimes.\n",
        "\n",
        "\n",
        "In this experiment we want to show people, detecting seizure can be predictible by machine learning methods. This notebook provides predictions from 178 data features. \n",
        "We have advantages of more features by combine them with PCA method. This notebook also contribute reduce workload of neurologists. \n",
        "This notebook also not not provide solving problem but it can helps to detect some classes from data. \n",
        "\n"
      ]
    },
    {
      "cell_type": "markdown",
      "metadata": {
        "id": "mdI1BaIUhhrj"
      },
      "source": [
        "## Data Understanding<a class=\"anchor\" id=\"data_understanding\"></a>"
      ]
    },
    {
      "cell_type": "markdown",
      "metadata": {
        "id": "vhy7RkkciQT0"
      },
      "source": [
        "As you can see below, we first read our dataset from file with has extension csv. We read dataframe to panda dataframe. And then we want to show distribution of categories of EEG results. We can see from there, we have same amount of classes at our dataframe. We can say this also from table at under the graph. You can see mean of our Y columns data is equals to 3. "
      ]
    },
    {
      "cell_type": "code",
      "metadata": {
        "colab": {
          "base_uri": "https://localhost:8080/",
          "height": 642
        },
        "id": "o1kXDHWThhrj",
        "outputId": "ec4fc8e5-2149-4a5b-927c-96028f7184ec"
      },
      "source": [
        "df = pd.read_csv(\"Epileptic Seizure Recognition.csv\")\n",
        "sns.countplot(df['y'],label=\"Count\")\n",
        "plt.show()\n",
        "df.describe()\n"
      ],
      "execution_count": null,
      "outputs": [
        {
          "output_type": "stream",
          "text": [
            "/usr/local/lib/python3.7/dist-packages/seaborn/_decorators.py:43: FutureWarning: Pass the following variable as a keyword arg: x. From version 0.12, the only valid positional argument will be `data`, and passing other arguments without an explicit keyword will result in an error or misinterpretation.\n",
            "  FutureWarning\n"
          ],
          "name": "stderr"
        },
        {
          "output_type": "display_data",
          "data": {
            "image/png": "[encoded data removed]",
            "text/plain": [
              "<Figure size 432x288 with 1 Axes>"
            ]
          },
          "metadata": {
            "tags": [],
            "needs_background": "light"
          }
        },
        {
          "output_type": "execute_result",
          "data": {
            "text/html": [
              "<div>\n",
              "<style scoped>\n",
              "    .dataframe tbody tr th:only-of-type {\n",
              "        vertical-align: middle;\n",
              "    }\n",
              "\n",
              "    .dataframe tbody tr th {\n",
              "        vertical-align: top;\n",
              "    }\n",
              "\n",
              "    .dataframe thead th {\n",
              "        text-align: right;\n",
              "    }\n",
              "</style>\n",
              "<table border=\"1\" class=\"dataframe\">\n",
              "  <thead>\n",
              "    <tr style=\"text-align: right;\">\n",
              "      <th></th>\n",
              "      <th>X1</th>\n",
              "      <th>X2</th>\n",
              "      <th>X3</th>\n",
              "      <th>X4</th>\n",
              "      <th>X5</th>\n",
              "      <th>X6</th>\n",
              "      <th>X7</th>\n",
              "      <th>X8</th>\n",
              "      <th>X9</th>\n",
              "      <th>X10</th>\n",
              "      <th>X11</th>\n",
              "      <th>X12</th>\n",
              "      <th>X13</th>\n",
              "      <th>X14</th>\n",
              "      <th>X15</th>\n",
              "      <th>X16</th>\n",
              "      <th>X17</th>\n",
              "      <th>X18</th>\n",
              "      <th>X19</th>\n",
              "      <th>X20</th>\n",
              "      <th>X21</th>\n",
              "      <th>X22</th>\n",
              "      <th>X23</th>\n",
              "      <th>X24</th>\n",
              "      <th>X25</th>\n",
              "      <th>X26</th>\n",
              "      <th>X27</th>\n",
              "      <th>X28</th>\n",
              "      <th>X29</th>\n",
              "      <th>X30</th>\n",
              "      <th>X31</th>\n",
              "      <th>X32</th>\n",
              "      <th>X33</th>\n",
              "      <th>X34</th>\n",
              "      <th>X35</th>\n",
              "      <th>X36</th>\n",
              "      <th>X37</th>\n",
              "      <th>X38</th>\n",
              "      <th>X39</th>\n",
              "      <th>X40</th>\n",
              "      <th>...</th>\n",
              "      <th>X140</th>\n",
              "      <th>X141</th>\n",
              "      <th>X142</th>\n",
              "      <th>X143</th>\n",
              "      <th>X144</th>\n",
              "      <th>X145</th>\n",
              "      <th>X146</th>\n",
              "      <th>X147</th>\n",
              "      <th>X148</th>\n",
              "      <th>X149</th>\n",
              "      <th>X150</th>\n",
              "      <th>X151</th>\n",
              "      <th>X152</th>\n",
              "      <th>X153</th>\n",
              "      <th>X154</th>\n",
              "      <th>X155</th>\n",
              "      <th>X156</th>\n",
              "      <th>X157</th>\n",
              "      <th>X158</th>\n",
              "      <th>X159</th>\n",
              "      <th>X160</th>\n",
              "      <th>X161</th>\n",
              "      <th>X162</th>\n",
              "      <th>X163</th>\n",
              "      <th>X164</th>\n",
              "      <th>X165</th>\n",
              "      <th>X166</th>\n",
              "      <th>X167</th>\n",
              "      <th>X168</th>\n",
              "      <th>X169</th>\n",
              "      <th>X170</th>\n",
              "      <th>X171</th>\n",
              "      <th>X172</th>\n",
              "      <th>X173</th>\n",
              "      <th>X174</th>\n",
              "      <th>X175</th>\n",
              "      <th>X176</th>\n",
              "      <th>X177</th>\n",
              "      <th>X178</th>\n",
              "      <th>y</th>\n",
              "    </tr>\n",
              "  </thead>\n",
              "  <tbody>\n",
              "    <tr>\n",
              "      <th>count</th>\n",
              "      <td>11500.000000</td>\n",
              "      <td>11500.000000</td>\n",
              "      <td>11500.000000</td>\n",
              "      <td>11500.000000</td>\n",
              "      <td>11500.000000</td>\n",
              "      <td>11500.000000</td>\n",
              "      <td>11500.000000</td>\n",
              "      <td>11500.00000</td>\n",
              "      <td>11500.00000</td>\n",
              "      <td>11500.000000</td>\n",
              "      <td>11500.000000</td>\n",
              "      <td>11500.000000</td>\n",
              "      <td>11500.000000</td>\n",
              "      <td>11500.000000</td>\n",
              "      <td>11500.000000</td>\n",
              "      <td>11500.000000</td>\n",
              "      <td>11500.000000</td>\n",
              "      <td>11500.000000</td>\n",
              "      <td>11500.000000</td>\n",
              "      <td>11500.000000</td>\n",
              "      <td>11500.000000</td>\n",
              "      <td>11500.000000</td>\n",
              "      <td>11500.000000</td>\n",
              "      <td>11500.000000</td>\n",
              "      <td>11500.000000</td>\n",
              "      <td>11500.00000</td>\n",
              "      <td>11500.000000</td>\n",
              "      <td>11500.000000</td>\n",
              "      <td>11500.000000</td>\n",
              "      <td>11500.000000</td>\n",
              "      <td>11500.000000</td>\n",
              "      <td>11500.000000</td>\n",
              "      <td>11500.000000</td>\n",
              "      <td>11500.000000</td>\n",
              "      <td>11500.000000</td>\n",
              "      <td>11500.000000</td>\n",
              "      <td>11500.000000</td>\n",
              "      <td>11500.000000</td>\n",
              "      <td>11500.000000</td>\n",
              "      <td>11500.000000</td>\n",
              "      <td>...</td>\n",
              "      <td>11500.000000</td>\n",
              "      <td>11500.000000</td>\n",
              "      <td>11500.000000</td>\n",
              "      <td>11500.000000</td>\n",
              "      <td>11500.000000</td>\n",
              "      <td>11500.000000</td>\n",
              "      <td>11500.000000</td>\n",
              "      <td>11500.000000</td>\n",
              "      <td>11500.000000</td>\n",
              "      <td>11500.000000</td>\n",
              "      <td>11500.000000</td>\n",
              "      <td>11500.000000</td>\n",
              "      <td>11500.000000</td>\n",
              "      <td>11500.000000</td>\n",
              "      <td>11500.000000</td>\n",
              "      <td>11500.000000</td>\n",
              "      <td>11500.000000</td>\n",
              "      <td>11500.000000</td>\n",
              "      <td>11500.000000</td>\n",
              "      <td>11500.000000</td>\n",
              "      <td>11500.000000</td>\n",
              "      <td>11500.000000</td>\n",
              "      <td>11500.000000</td>\n",
              "      <td>11500.000000</td>\n",
              "      <td>11500.000000</td>\n",
              "      <td>11500.000000</td>\n",
              "      <td>11500.000000</td>\n",
              "      <td>11500.000000</td>\n",
              "      <td>11500.000000</td>\n",
              "      <td>11500.000000</td>\n",
              "      <td>11500.000000</td>\n",
              "      <td>11500.000000</td>\n",
              "      <td>11500.000000</td>\n",
              "      <td>11500.000000</td>\n",
              "      <td>11500.000000</td>\n",
              "      <td>11500.000000</td>\n",
              "      <td>11500.000000</td>\n",
              "      <td>11500.000000</td>\n",
              "      <td>11500.000000</td>\n",
              "      <td>11500.000000</td>\n",
              "    </tr>\n",
              "    <tr>\n",
              "      <th>mean</th>\n",
              "      <td>-11.581391</td>\n",
              "      <td>-10.911565</td>\n",
              "      <td>-10.187130</td>\n",
              "      <td>-9.143043</td>\n",
              "      <td>-8.009739</td>\n",
              "      <td>-7.003478</td>\n",
              "      <td>-6.502087</td>\n",
              "      <td>-6.68713</td>\n",
              "      <td>-6.55800</td>\n",
              "      <td>-6.168435</td>\n",
              "      <td>-5.827478</td>\n",
              "      <td>-6.042174</td>\n",
              "      <td>-6.687304</td>\n",
              "      <td>-7.088870</td>\n",
              "      <td>-7.211217</td>\n",
              "      <td>-7.088261</td>\n",
              "      <td>-6.806696</td>\n",
              "      <td>-6.744696</td>\n",
              "      <td>-6.484783</td>\n",
              "      <td>-6.448435</td>\n",
              "      <td>-6.355391</td>\n",
              "      <td>-6.543130</td>\n",
              "      <td>-6.884348</td>\n",
              "      <td>-6.883217</td>\n",
              "      <td>-6.118870</td>\n",
              "      <td>-5.15913</td>\n",
              "      <td>-4.785652</td>\n",
              "      <td>-4.874783</td>\n",
              "      <td>-5.393565</td>\n",
              "      <td>-5.935478</td>\n",
              "      <td>-6.349913</td>\n",
              "      <td>-6.212522</td>\n",
              "      <td>-5.859826</td>\n",
              "      <td>-5.299826</td>\n",
              "      <td>-4.955652</td>\n",
              "      <td>-5.278087</td>\n",
              "      <td>-6.162261</td>\n",
              "      <td>-7.316609</td>\n",
              "      <td>-7.998522</td>\n",
              "      <td>-7.818870</td>\n",
              "      <td>...</td>\n",
              "      <td>-6.997304</td>\n",
              "      <td>-7.339391</td>\n",
              "      <td>-7.911565</td>\n",
              "      <td>-8.177304</td>\n",
              "      <td>-8.608870</td>\n",
              "      <td>-8.578087</td>\n",
              "      <td>-8.240000</td>\n",
              "      <td>-7.691391</td>\n",
              "      <td>-7.356522</td>\n",
              "      <td>-7.228783</td>\n",
              "      <td>-6.980870</td>\n",
              "      <td>-6.756783</td>\n",
              "      <td>-6.355304</td>\n",
              "      <td>-6.423826</td>\n",
              "      <td>-6.465217</td>\n",
              "      <td>-6.316435</td>\n",
              "      <td>-5.808000</td>\n",
              "      <td>-5.255913</td>\n",
              "      <td>-4.682087</td>\n",
              "      <td>-4.638609</td>\n",
              "      <td>-4.770261</td>\n",
              "      <td>-5.650870</td>\n",
              "      <td>-7.170348</td>\n",
              "      <td>-8.759826</td>\n",
              "      <td>-9.784783</td>\n",
              "      <td>-10.096261</td>\n",
              "      <td>-9.842957</td>\n",
              "      <td>-9.701739</td>\n",
              "      <td>-9.351391</td>\n",
              "      <td>-9.498870</td>\n",
              "      <td>-10.145739</td>\n",
              "      <td>-11.630348</td>\n",
              "      <td>-12.943478</td>\n",
              "      <td>-13.668870</td>\n",
              "      <td>-13.363304</td>\n",
              "      <td>-13.045043</td>\n",
              "      <td>-12.705130</td>\n",
              "      <td>-12.426000</td>\n",
              "      <td>-12.195652</td>\n",
              "      <td>3.000000</td>\n",
              "    </tr>\n",
              "    <tr>\n",
              "      <th>std</th>\n",
              "      <td>165.626284</td>\n",
              "      <td>166.059609</td>\n",
              "      <td>163.524317</td>\n",
              "      <td>161.269041</td>\n",
              "      <td>160.998007</td>\n",
              "      <td>161.328725</td>\n",
              "      <td>161.467837</td>\n",
              "      <td>162.11912</td>\n",
              "      <td>162.03336</td>\n",
              "      <td>160.436352</td>\n",
              "      <td>160.471017</td>\n",
              "      <td>161.181118</td>\n",
              "      <td>165.071121</td>\n",
              "      <td>169.198359</td>\n",
              "      <td>170.641967</td>\n",
              "      <td>168.930355</td>\n",
              "      <td>164.646296</td>\n",
              "      <td>162.062661</td>\n",
              "      <td>162.571333</td>\n",
              "      <td>162.339911</td>\n",
              "      <td>162.823325</td>\n",
              "      <td>163.909723</td>\n",
              "      <td>165.844176</td>\n",
              "      <td>166.009100</td>\n",
              "      <td>164.715153</td>\n",
              "      <td>162.77423</td>\n",
              "      <td>162.902294</td>\n",
              "      <td>164.799831</td>\n",
              "      <td>165.391697</td>\n",
              "      <td>164.291120</td>\n",
              "      <td>163.165167</td>\n",
              "      <td>163.408052</td>\n",
              "      <td>163.561408</td>\n",
              "      <td>162.548119</td>\n",
              "      <td>160.813772</td>\n",
              "      <td>160.441049</td>\n",
              "      <td>162.881958</td>\n",
              "      <td>166.235164</td>\n",
              "      <td>166.314965</td>\n",
              "      <td>164.513017</td>\n",
              "      <td>...</td>\n",
              "      <td>168.567495</td>\n",
              "      <td>168.662705</td>\n",
              "      <td>167.643458</td>\n",
              "      <td>167.414439</td>\n",
              "      <td>167.922773</td>\n",
              "      <td>168.274009</td>\n",
              "      <td>167.808218</td>\n",
              "      <td>166.739558</td>\n",
              "      <td>165.678558</td>\n",
              "      <td>167.130911</td>\n",
              "      <td>168.156296</td>\n",
              "      <td>167.459868</td>\n",
              "      <td>165.061414</td>\n",
              "      <td>164.248830</td>\n",
              "      <td>166.226332</td>\n",
              "      <td>168.143625</td>\n",
              "      <td>167.067064</td>\n",
              "      <td>166.446540</td>\n",
              "      <td>167.554020</td>\n",
              "      <td>169.418457</td>\n",
              "      <td>170.639171</td>\n",
              "      <td>170.817824</td>\n",
              "      <td>168.145372</td>\n",
              "      <td>166.817974</td>\n",
              "      <td>166.999981</td>\n",
              "      <td>167.756860</td>\n",
              "      <td>166.988820</td>\n",
              "      <td>167.062497</td>\n",
              "      <td>166.606345</td>\n",
              "      <td>165.235574</td>\n",
              "      <td>164.652883</td>\n",
              "      <td>166.149790</td>\n",
              "      <td>168.554058</td>\n",
              "      <td>168.556486</td>\n",
              "      <td>167.257290</td>\n",
              "      <td>164.241019</td>\n",
              "      <td>162.895832</td>\n",
              "      <td>162.886311</td>\n",
              "      <td>164.852015</td>\n",
              "      <td>1.414275</td>\n",
              "    </tr>\n",
              "    <tr>\n",
              "      <th>min</th>\n",
              "      <td>-1839.000000</td>\n",
              "      <td>-1838.000000</td>\n",
              "      <td>-1835.000000</td>\n",
              "      <td>-1845.000000</td>\n",
              "      <td>-1791.000000</td>\n",
              "      <td>-1757.000000</td>\n",
              "      <td>-1832.000000</td>\n",
              "      <td>-1778.00000</td>\n",
              "      <td>-1840.00000</td>\n",
              "      <td>-1867.000000</td>\n",
              "      <td>-1765.000000</td>\n",
              "      <td>-1803.000000</td>\n",
              "      <td>-1833.000000</td>\n",
              "      <td>-1867.000000</td>\n",
              "      <td>-1870.000000</td>\n",
              "      <td>-1839.000000</td>\n",
              "      <td>-1867.000000</td>\n",
              "      <td>-1856.000000</td>\n",
              "      <td>-1844.000000</td>\n",
              "      <td>-1717.000000</td>\n",
              "      <td>-1764.000000</td>\n",
              "      <td>-1856.000000</td>\n",
              "      <td>-1844.000000</td>\n",
              "      <td>-1866.000000</td>\n",
              "      <td>-1863.000000</td>\n",
              "      <td>-1866.00000</td>\n",
              "      <td>-1781.000000</td>\n",
              "      <td>-1860.000000</td>\n",
              "      <td>-1818.000000</td>\n",
              "      <td>-1867.000000</td>\n",
              "      <td>-1743.000000</td>\n",
              "      <td>-1517.000000</td>\n",
              "      <td>-1552.000000</td>\n",
              "      <td>-1720.000000</td>\n",
              "      <td>-1864.000000</td>\n",
              "      <td>-1814.000000</td>\n",
              "      <td>-1829.000000</td>\n",
              "      <td>-1851.000000</td>\n",
              "      <td>-1840.000000</td>\n",
              "      <td>-1673.000000</td>\n",
              "      <td>...</td>\n",
              "      <td>-1867.000000</td>\n",
              "      <td>-1826.000000</td>\n",
              "      <td>-1866.000000</td>\n",
              "      <td>-1854.000000</td>\n",
              "      <td>-1789.000000</td>\n",
              "      <td>-1872.000000</td>\n",
              "      <td>-1866.000000</td>\n",
              "      <td>-1675.000000</td>\n",
              "      <td>-1778.000000</td>\n",
              "      <td>-1733.000000</td>\n",
              "      <td>-1862.000000</td>\n",
              "      <td>-1861.000000</td>\n",
              "      <td>-1857.000000</td>\n",
              "      <td>-1839.000000</td>\n",
              "      <td>-1860.000000</td>\n",
              "      <td>-1843.000000</td>\n",
              "      <td>-1863.000000</td>\n",
              "      <td>-1861.000000</td>\n",
              "      <td>-1845.000000</td>\n",
              "      <td>-1820.000000</td>\n",
              "      <td>-1864.000000</td>\n",
              "      <td>-1868.000000</td>\n",
              "      <td>-1855.000000</td>\n",
              "      <td>-1852.000000</td>\n",
              "      <td>-1870.000000</td>\n",
              "      <td>-1847.000000</td>\n",
              "      <td>-1578.000000</td>\n",
              "      <td>-1838.000000</td>\n",
              "      <td>-1763.000000</td>\n",
              "      <td>-1860.000000</td>\n",
              "      <td>-1867.000000</td>\n",
              "      <td>-1865.000000</td>\n",
              "      <td>-1642.000000</td>\n",
              "      <td>-1723.000000</td>\n",
              "      <td>-1866.000000</td>\n",
              "      <td>-1863.000000</td>\n",
              "      <td>-1781.000000</td>\n",
              "      <td>-1727.000000</td>\n",
              "      <td>-1829.000000</td>\n",
              "      <td>1.000000</td>\n",
              "    </tr>\n",
              "    <tr>\n",
              "      <th>25%</th>\n",
              "      <td>-54.000000</td>\n",
              "      <td>-55.000000</td>\n",
              "      <td>-54.000000</td>\n",
              "      <td>-54.000000</td>\n",
              "      <td>-54.000000</td>\n",
              "      <td>-54.000000</td>\n",
              "      <td>-54.000000</td>\n",
              "      <td>-55.00000</td>\n",
              "      <td>-55.00000</td>\n",
              "      <td>-54.000000</td>\n",
              "      <td>-54.000000</td>\n",
              "      <td>-54.000000</td>\n",
              "      <td>-54.000000</td>\n",
              "      <td>-54.000000</td>\n",
              "      <td>-53.000000</td>\n",
              "      <td>-53.000000</td>\n",
              "      <td>-53.000000</td>\n",
              "      <td>-52.000000</td>\n",
              "      <td>-53.000000</td>\n",
              "      <td>-53.000000</td>\n",
              "      <td>-53.000000</td>\n",
              "      <td>-53.000000</td>\n",
              "      <td>-53.000000</td>\n",
              "      <td>-52.000000</td>\n",
              "      <td>-52.000000</td>\n",
              "      <td>-52.00000</td>\n",
              "      <td>-51.000000</td>\n",
              "      <td>-50.000000</td>\n",
              "      <td>-50.000000</td>\n",
              "      <td>-50.000000</td>\n",
              "      <td>-51.000000</td>\n",
              "      <td>-52.000000</td>\n",
              "      <td>-52.000000</td>\n",
              "      <td>-51.000000</td>\n",
              "      <td>-51.000000</td>\n",
              "      <td>-51.000000</td>\n",
              "      <td>-51.000000</td>\n",
              "      <td>-51.000000</td>\n",
              "      <td>-52.000000</td>\n",
              "      <td>-52.000000</td>\n",
              "      <td>...</td>\n",
              "      <td>-54.000000</td>\n",
              "      <td>-55.000000</td>\n",
              "      <td>-55.000000</td>\n",
              "      <td>-56.000000</td>\n",
              "      <td>-56.000000</td>\n",
              "      <td>-56.000000</td>\n",
              "      <td>-55.000000</td>\n",
              "      <td>-57.000000</td>\n",
              "      <td>-55.000000</td>\n",
              "      <td>-55.000000</td>\n",
              "      <td>-54.000000</td>\n",
              "      <td>-54.000000</td>\n",
              "      <td>-53.000000</td>\n",
              "      <td>-53.000000</td>\n",
              "      <td>-53.000000</td>\n",
              "      <td>-52.000000</td>\n",
              "      <td>-52.250000</td>\n",
              "      <td>-52.000000</td>\n",
              "      <td>-52.000000</td>\n",
              "      <td>-53.000000</td>\n",
              "      <td>-52.000000</td>\n",
              "      <td>-52.000000</td>\n",
              "      <td>-52.000000</td>\n",
              "      <td>-53.000000</td>\n",
              "      <td>-54.000000</td>\n",
              "      <td>-54.000000</td>\n",
              "      <td>-55.000000</td>\n",
              "      <td>-55.000000</td>\n",
              "      <td>-55.000000</td>\n",
              "      <td>-55.000000</td>\n",
              "      <td>-55.000000</td>\n",
              "      <td>-56.000000</td>\n",
              "      <td>-56.000000</td>\n",
              "      <td>-56.000000</td>\n",
              "      <td>-55.000000</td>\n",
              "      <td>-56.000000</td>\n",
              "      <td>-55.000000</td>\n",
              "      <td>-55.000000</td>\n",
              "      <td>-55.000000</td>\n",
              "      <td>2.000000</td>\n",
              "    </tr>\n",
              "    <tr>\n",
              "      <th>50%</th>\n",
              "      <td>-8.000000</td>\n",
              "      <td>-8.000000</td>\n",
              "      <td>-7.000000</td>\n",
              "      <td>-8.000000</td>\n",
              "      <td>-8.000000</td>\n",
              "      <td>-8.000000</td>\n",
              "      <td>-8.000000</td>\n",
              "      <td>-8.00000</td>\n",
              "      <td>-7.00000</td>\n",
              "      <td>-7.000000</td>\n",
              "      <td>-8.000000</td>\n",
              "      <td>-8.000000</td>\n",
              "      <td>-8.000000</td>\n",
              "      <td>-8.000000</td>\n",
              "      <td>-7.000000</td>\n",
              "      <td>-7.000000</td>\n",
              "      <td>-6.000000</td>\n",
              "      <td>-7.000000</td>\n",
              "      <td>-6.000000</td>\n",
              "      <td>-6.000000</td>\n",
              "      <td>-7.000000</td>\n",
              "      <td>-6.000000</td>\n",
              "      <td>-6.000000</td>\n",
              "      <td>-7.000000</td>\n",
              "      <td>-7.000000</td>\n",
              "      <td>-6.00000</td>\n",
              "      <td>-6.000000</td>\n",
              "      <td>-6.000000</td>\n",
              "      <td>-5.000000</td>\n",
              "      <td>-5.000000</td>\n",
              "      <td>-5.000000</td>\n",
              "      <td>-6.000000</td>\n",
              "      <td>-6.000000</td>\n",
              "      <td>-6.000000</td>\n",
              "      <td>-6.000000</td>\n",
              "      <td>-6.000000</td>\n",
              "      <td>-6.000000</td>\n",
              "      <td>-6.000000</td>\n",
              "      <td>-7.000000</td>\n",
              "      <td>-7.000000</td>\n",
              "      <td>...</td>\n",
              "      <td>-7.000000</td>\n",
              "      <td>-8.000000</td>\n",
              "      <td>-8.000000</td>\n",
              "      <td>-8.000000</td>\n",
              "      <td>-8.000000</td>\n",
              "      <td>-8.000000</td>\n",
              "      <td>-8.000000</td>\n",
              "      <td>-9.000000</td>\n",
              "      <td>-9.000000</td>\n",
              "      <td>-9.000000</td>\n",
              "      <td>-8.000000</td>\n",
              "      <td>-8.000000</td>\n",
              "      <td>-7.000000</td>\n",
              "      <td>-7.000000</td>\n",
              "      <td>-7.000000</td>\n",
              "      <td>-7.000000</td>\n",
              "      <td>-7.000000</td>\n",
              "      <td>-7.000000</td>\n",
              "      <td>-7.000000</td>\n",
              "      <td>-7.000000</td>\n",
              "      <td>-6.000000</td>\n",
              "      <td>-7.000000</td>\n",
              "      <td>-7.000000</td>\n",
              "      <td>-7.000000</td>\n",
              "      <td>-8.000000</td>\n",
              "      <td>-8.000000</td>\n",
              "      <td>-9.000000</td>\n",
              "      <td>-9.000000</td>\n",
              "      <td>-8.000000</td>\n",
              "      <td>-8.000000</td>\n",
              "      <td>-9.000000</td>\n",
              "      <td>-10.000000</td>\n",
              "      <td>-10.000000</td>\n",
              "      <td>-10.000000</td>\n",
              "      <td>-10.000000</td>\n",
              "      <td>-9.000000</td>\n",
              "      <td>-9.000000</td>\n",
              "      <td>-9.000000</td>\n",
              "      <td>-9.000000</td>\n",
              "      <td>3.000000</td>\n",
              "    </tr>\n",
              "    <tr>\n",
              "      <th>75%</th>\n",
              "      <td>34.000000</td>\n",
              "      <td>35.000000</td>\n",
              "      <td>36.000000</td>\n",
              "      <td>36.000000</td>\n",
              "      <td>35.000000</td>\n",
              "      <td>36.000000</td>\n",
              "      <td>35.000000</td>\n",
              "      <td>36.00000</td>\n",
              "      <td>36.00000</td>\n",
              "      <td>35.250000</td>\n",
              "      <td>36.000000</td>\n",
              "      <td>35.000000</td>\n",
              "      <td>36.000000</td>\n",
              "      <td>37.000000</td>\n",
              "      <td>37.000000</td>\n",
              "      <td>38.000000</td>\n",
              "      <td>37.000000</td>\n",
              "      <td>38.000000</td>\n",
              "      <td>38.000000</td>\n",
              "      <td>39.000000</td>\n",
              "      <td>39.000000</td>\n",
              "      <td>38.000000</td>\n",
              "      <td>37.000000</td>\n",
              "      <td>38.000000</td>\n",
              "      <td>37.000000</td>\n",
              "      <td>38.00000</td>\n",
              "      <td>37.000000</td>\n",
              "      <td>38.250000</td>\n",
              "      <td>38.000000</td>\n",
              "      <td>38.000000</td>\n",
              "      <td>38.000000</td>\n",
              "      <td>38.000000</td>\n",
              "      <td>38.000000</td>\n",
              "      <td>38.000000</td>\n",
              "      <td>39.000000</td>\n",
              "      <td>39.000000</td>\n",
              "      <td>39.000000</td>\n",
              "      <td>38.000000</td>\n",
              "      <td>38.000000</td>\n",
              "      <td>37.000000</td>\n",
              "      <td>...</td>\n",
              "      <td>36.000000</td>\n",
              "      <td>35.000000</td>\n",
              "      <td>35.000000</td>\n",
              "      <td>35.000000</td>\n",
              "      <td>35.000000</td>\n",
              "      <td>35.000000</td>\n",
              "      <td>35.000000</td>\n",
              "      <td>35.000000</td>\n",
              "      <td>34.000000</td>\n",
              "      <td>35.000000</td>\n",
              "      <td>36.000000</td>\n",
              "      <td>36.000000</td>\n",
              "      <td>36.000000</td>\n",
              "      <td>37.000000</td>\n",
              "      <td>36.000000</td>\n",
              "      <td>36.000000</td>\n",
              "      <td>35.250000</td>\n",
              "      <td>36.000000</td>\n",
              "      <td>36.000000</td>\n",
              "      <td>37.000000</td>\n",
              "      <td>36.000000</td>\n",
              "      <td>36.000000</td>\n",
              "      <td>37.000000</td>\n",
              "      <td>35.000000</td>\n",
              "      <td>35.000000</td>\n",
              "      <td>34.000000</td>\n",
              "      <td>35.000000</td>\n",
              "      <td>35.000000</td>\n",
              "      <td>34.000000</td>\n",
              "      <td>35.000000</td>\n",
              "      <td>34.000000</td>\n",
              "      <td>34.000000</td>\n",
              "      <td>33.000000</td>\n",
              "      <td>33.000000</td>\n",
              "      <td>34.000000</td>\n",
              "      <td>34.000000</td>\n",
              "      <td>34.000000</td>\n",
              "      <td>34.000000</td>\n",
              "      <td>34.000000</td>\n",
              "      <td>4.000000</td>\n",
              "    </tr>\n",
              "    <tr>\n",
              "      <th>max</th>\n",
              "      <td>1726.000000</td>\n",
              "      <td>1713.000000</td>\n",
              "      <td>1697.000000</td>\n",
              "      <td>1612.000000</td>\n",
              "      <td>1518.000000</td>\n",
              "      <td>1816.000000</td>\n",
              "      <td>2047.000000</td>\n",
              "      <td>2047.00000</td>\n",
              "      <td>2047.00000</td>\n",
              "      <td>2047.000000</td>\n",
              "      <td>2047.000000</td>\n",
              "      <td>2047.000000</td>\n",
              "      <td>2047.000000</td>\n",
              "      <td>1829.000000</td>\n",
              "      <td>1631.000000</td>\n",
              "      <td>1532.000000</td>\n",
              "      <td>1441.000000</td>\n",
              "      <td>1352.000000</td>\n",
              "      <td>1504.000000</td>\n",
              "      <td>1821.000000</td>\n",
              "      <td>2022.000000</td>\n",
              "      <td>2047.000000</td>\n",
              "      <td>2040.000000</td>\n",
              "      <td>1879.000000</td>\n",
              "      <td>1666.000000</td>\n",
              "      <td>1435.00000</td>\n",
              "      <td>1340.000000</td>\n",
              "      <td>1257.000000</td>\n",
              "      <td>1452.000000</td>\n",
              "      <td>1551.000000</td>\n",
              "      <td>1446.000000</td>\n",
              "      <td>1381.000000</td>\n",
              "      <td>1259.000000</td>\n",
              "      <td>1213.000000</td>\n",
              "      <td>1364.000000</td>\n",
              "      <td>1220.000000</td>\n",
              "      <td>1304.000000</td>\n",
              "      <td>1344.000000</td>\n",
              "      <td>1298.000000</td>\n",
              "      <td>1518.000000</td>\n",
              "      <td>...</td>\n",
              "      <td>2047.000000</td>\n",
              "      <td>2047.000000</td>\n",
              "      <td>2047.000000</td>\n",
              "      <td>2045.000000</td>\n",
              "      <td>2047.000000</td>\n",
              "      <td>2047.000000</td>\n",
              "      <td>2047.000000</td>\n",
              "      <td>2047.000000</td>\n",
              "      <td>1934.000000</td>\n",
              "      <td>1644.000000</td>\n",
              "      <td>1524.000000</td>\n",
              "      <td>1565.000000</td>\n",
              "      <td>1682.000000</td>\n",
              "      <td>1977.000000</td>\n",
              "      <td>2047.000000</td>\n",
              "      <td>2047.000000</td>\n",
              "      <td>1902.000000</td>\n",
              "      <td>1681.000000</td>\n",
              "      <td>1502.000000</td>\n",
              "      <td>1314.000000</td>\n",
              "      <td>1431.000000</td>\n",
              "      <td>1543.000000</td>\n",
              "      <td>1556.000000</td>\n",
              "      <td>1597.000000</td>\n",
              "      <td>1629.000000</td>\n",
              "      <td>1726.000000</td>\n",
              "      <td>2047.000000</td>\n",
              "      <td>2047.000000</td>\n",
              "      <td>2047.000000</td>\n",
              "      <td>2047.000000</td>\n",
              "      <td>1777.000000</td>\n",
              "      <td>1472.000000</td>\n",
              "      <td>1319.000000</td>\n",
              "      <td>1436.000000</td>\n",
              "      <td>1733.000000</td>\n",
              "      <td>1958.000000</td>\n",
              "      <td>2047.000000</td>\n",
              "      <td>2047.000000</td>\n",
              "      <td>1915.000000</td>\n",
              "      <td>5.000000</td>\n",
              "    </tr>\n",
              "  </tbody>\n",
              "</table>\n",
              "<p>8 rows × 179 columns</p>\n",
              "</div>"
            ],
            "text/plain": [
              "                 X1            X2  ...          X178             y\n",
              "count  11500.000000  11500.000000  ...  11500.000000  11500.000000\n",
              "mean     -11.581391    -10.911565  ...    -12.195652      3.000000\n",
              "std      165.626284    166.059609  ...    164.852015      1.414275\n",
              "min    -1839.000000  -1838.000000  ...  -1829.000000      1.000000\n",
              "25%      -54.000000    -55.000000  ...    -55.000000      2.000000\n",
              "50%       -8.000000     -8.000000  ...     -9.000000      3.000000\n",
              "75%       34.000000     35.000000  ...     34.000000      4.000000\n",
              "max     1726.000000   1713.000000  ...   1915.000000      5.000000\n",
              "\n",
              "[8 rows x 179 columns]"
            ]
          },
          "metadata": {
            "tags": []
          },
          "execution_count": 51
        }
      ]
    },
    {
      "cell_type": "markdown",
      "metadata": {
        "id": "ukz9xUTVhhrk"
      },
      "source": [
        "You can see general informations about each columns at above. You can see min, max values from table. Next we need to see our data cells data types for our future processes. You can see our data types at below. We do not need any convert in database."
      ]
    },
    {
      "cell_type": "code",
      "metadata": {
        "colab": {
          "base_uri": "https://localhost:8080/"
        },
        "id": "8DOLP5aWhhrk",
        "outputId": "09947e77-3741-4166-851b-82d3b3c913ea"
      },
      "source": [
        "print(df.dtypes)"
      ],
      "execution_count": null,
      "outputs": [
        {
          "output_type": "stream",
          "text": [
            "Unnamed    object\n",
            "X1          int64\n",
            "X2          int64\n",
            "X3          int64\n",
            "X4          int64\n",
            "            ...  \n",
            "X175        int64\n",
            "X176        int64\n",
            "X177        int64\n",
            "X178        int64\n",
            "y           int64\n",
            "Length: 180, dtype: object\n"
          ],
          "name": "stdout"
        }
      ]
    },
    {
      "cell_type": "markdown",
      "metadata": {
        "id": "RRNmaAmZiYxD"
      },
      "source": [
        "As mentioned at purpose part, we need to reduce our classes to 0(Not have epileptic seizure) or 1(Have epileptic seizure). We just need two attributes for our notebook to determine have seizure or not. You can see distribution of have seizure or not from below graph. We can see, who hasn't got seizure equals to 4 times who has seizure."
      ]
    },
    {
      "cell_type": "code",
      "metadata": {
        "colab": {
          "base_uri": "https://localhost:8080/",
          "height": 333
        },
        "id": "2cfH1dT_iapQ",
        "outputId": "dc0a5f39-a139-40f8-c903-ece2e6ebd551"
      },
      "source": [
        "#change values to have epileptic seizure or not \n",
        "df['y'] = np.where(df['y'] >1, 0,  1)\n",
        "df.y.value_counts()\n",
        "df_type = df.y\n",
        "sns.countplot(df.y,label=\"Count\")\n",
        "plt.show()"
      ],
      "execution_count": null,
      "outputs": [
        {
          "output_type": "stream",
          "text": [
            "/usr/local/lib/python3.7/dist-packages/seaborn/_decorators.py:43: FutureWarning: Pass the following variable as a keyword arg: x. From version 0.12, the only valid positional argument will be `data`, and passing other arguments without an explicit keyword will result in an error or misinterpretation.\n",
            "  FutureWarning\n"
          ],
          "name": "stderr"
        },
        {
          "output_type": "display_data",
          "data": {
            "image/png": "[encoded data removed]",
            "text/plain": [
              "<Figure size 432x288 with 1 Axes>"
            ]
          },
          "metadata": {
            "tags": [],
            "needs_background": "light"
          }
        }
      ]
    },
    {
      "cell_type": "markdown",
      "metadata": {
        "id": "KoQ_pAQYhhrk"
      },
      "source": [
        "## Data Preparation<a class=\"anchor\" id=\"data_preparation\"></a>"
      ]
    },
    {
      "cell_type": "code",
      "metadata": {
        "colab": {
          "base_uri": "https://localhost:8080/"
        },
        "id": "YShZgerXhhrk",
        "outputId": "d95b0503-db7b-4d8b-efea-70facab64e36"
      },
      "source": [
        "df.isnull().sum()"
      ],
      "execution_count": null,
      "outputs": [
        {
          "output_type": "execute_result",
          "data": {
            "text/plain": [
              "Unnamed    0\n",
              "X1         0\n",
              "X2         0\n",
              "X3         0\n",
              "X4         0\n",
              "          ..\n",
              "X175       0\n",
              "X176       0\n",
              "X177       0\n",
              "X178       0\n",
              "y          0\n",
              "Length: 180, dtype: int64"
            ]
          },
          "metadata": {
            "tags": []
          },
          "execution_count": 54
        }
      ]
    },
    {
      "cell_type": "markdown",
      "metadata": {
        "id": "oqV6NxQGhhrk"
      },
      "source": [
        "First we need to drop our class column and assign to new dataframe. At future processes we need this column for compare predicted values. We haven't any missing values at our dataframe so we did not drop any row for this reason. You can see at above."
      ]
    },
    {
      "cell_type": "code",
      "metadata": {
        "id": "eRNDxDMqhhrl"
      },
      "source": [
        "df.head(20)\n",
        "df_droppep = df.drop([\"y\",\"Unnamed\"],axis = 1)\n"
      ],
      "execution_count": null,
      "outputs": []
    },
    {
      "cell_type": "markdown",
      "metadata": {
        "id": "cVVCB45Iin9j"
      },
      "source": [
        "### Correlation between columns\n",
        "We can see correlations between columns from heatmap which placed below. We put this map for the drop columns first but then generally feautures has not high relations between them so we choose to keep them all. We will deal with this problem at the later on. "
      ]
    },
    {
      "cell_type": "code",
      "metadata": {
        "colab": {
          "base_uri": "https://localhost:8080/",
          "height": 387
        },
        "id": "78FIK1vfiqDX",
        "outputId": "0cffabcc-7b0e-40d0-af26-fe7bd43a193c"
      },
      "source": [
        "label_encoder = LabelEncoder()\n",
        "df.iloc[:,0] = label_encoder.fit_transform(df.iloc[:,0])\n",
        "corr = df_droppep.corr()\n",
        "sns.heatmap(corr)\n",
        "print(df_droppep.head(3))"
      ],
      "execution_count": null,
      "outputs": [
        {
          "output_type": "stream",
          "text": [
            "    X1   X2   X3   X4   X5   X6   X7  ...  X172  X173  X174  X175  X176  X177  X178\n",
            "0  135  190  229  223  192  125   55  ...   -31   -77  -103  -127  -116   -83   -51\n",
            "1  386  382  356  331  320  315  307  ...   146   152   157   156   154   143   129\n",
            "2  -32  -39  -47  -37  -32  -36  -57  ...    48    19   -12   -30   -35   -35   -36\n",
            "\n",
            "[3 rows x 178 columns]\n"
          ],
          "name": "stdout"
        },
        {
          "output_type": "display_data",
          "data": {
            "image/png": "[encoded data removed]",
            "text/plain": [
              "<Figure size 432x288 with 2 Axes>"
            ]
          },
          "metadata": {
            "tags": [],
            "needs_background": "light"
          }
        }
      ]
    },
    {
      "cell_type": "markdown",
      "metadata": {
        "id": "JA9ExR-Fisc-"
      },
      "source": [
        "We need to normalize our data because we have lots of negative values at our dataset. It can provides errors or not desired predicts. We choose Min-max normalization for our dataframe. \n",
        "*   **Min-max normalization** also known as min-max scaling or min-max normalization, is the simplest method and consists of rescaling the range of features to scale the range in [0, 1] or [−1, 1].\n",
        "Selecting the target range depends on the nature of the data. The general formula is\n",
        "given as: \n",
        "\n",
        "  𝑥'=𝑥−𝑚𝑖𝑛(𝑥)/(𝑚𝑎𝑥(𝑥)−𝑚𝑖𝑛(𝑥))\n",
        "\n",
        "  where x is an original value, x’s is the normalized value.\n",
        "\n",
        "You can see how our data change by MinMaxScaler.\n"
      ]
    },
    {
      "cell_type": "code",
      "metadata": {
        "colab": {
          "base_uri": "https://localhost:8080/"
        },
        "id": "kJey6i8bi1lf",
        "outputId": "4d0cfa35-9de9-49b1-d7e3-f4a0b7c62743"
      },
      "source": [
        "scalar = MinMaxScaler() \n",
        "scalar.fit(df_droppep)\n",
        "ND = scalar.transform(df_droppep)\n",
        "ND = pd.DataFrame(ND)\n",
        "print(df_droppep.head())\n",
        "print(ND.head())"
      ],
      "execution_count": null,
      "outputs": [
        {
          "output_type": "stream",
          "text": [
            "    X1   X2   X3   X4   X5   X6   X7  ...  X172  X173  X174  X175  X176  X177  X178\n",
            "0  135  190  229  223  192  125   55  ...   -31   -77  -103  -127  -116   -83   -51\n",
            "1  386  382  356  331  320  315  307  ...   146   152   157   156   154   143   129\n",
            "2  -32  -39  -47  -37  -32  -36  -57  ...    48    19   -12   -30   -35   -35   -36\n",
            "3 -105 -101  -96  -92  -89  -95 -102  ...   -80   -77   -85   -77   -72   -69   -65\n",
            "4   -9  -65  -98 -102  -78  -48  -16  ...   -12   -32   -41   -65   -83   -89   -73\n",
            "\n",
            "[5 rows x 178 columns]\n",
            "        0         1         2    ...       175       176       177\n",
            "0  0.553717  0.571107  0.584371  ...  0.434953  0.435612  0.474893\n",
            "1  0.624123  0.625176  0.620328  ...  0.505486  0.495495  0.522970\n",
            "2  0.506872  0.506618  0.506229  ...  0.456113  0.448331  0.478900\n",
            "3  0.486396  0.489158  0.492356  ...  0.446447  0.439322  0.471154\n",
            "4  0.513324  0.499296  0.491789  ...  0.443574  0.434022  0.469017\n",
            "\n",
            "[5 rows x 178 columns]\n"
          ],
          "name": "stdout"
        }
      ]
    },
    {
      "cell_type": "markdown",
      "metadata": {
        "id": "Z_yoeqZNhhrl"
      },
      "source": [
        "## Modeling<a class=\"anchor\" id=\"modeling\"></a>"
      ]
    },
    {
      "cell_type": "code",
      "metadata": {
        "id": "sonH3VSShhrl"
      },
      "source": [
        "class_X = df_droppep.copy()\n",
        "class_y = df_type\n",
        "X_train,X_test,y_train,y_test = train_test_split(class_X,class_y,test_size =0.30)\n",
        "scaler = MinMaxScaler()\n",
        "X_train = scaler.fit_transform(X_train)\n",
        "X_test = scaler.transform(X_test)"
      ],
      "execution_count": null,
      "outputs": []
    },
    {
      "cell_type": "markdown",
      "metadata": {
        "id": "9FydT_3Rhhrl"
      },
      "source": [
        "First we split our data for train and test values by %70 and %30. We create array for take same process to all classifier methods. We compare 5 different classification moodel by our train and test data. Let's give small explanations about these methods.\n",
        "\n",
        "\n",
        "* The XGBoost stands for eXtreme Gradient Boosting, which is a boosting \n",
        "algorithm based on gradient boosted decision trees algorithm. XGBoost applies a better regularization technique to reduce overfitting, and it is one of the differences from the gradient boosting.\n",
        "---\n",
        "* The implementation is based on libsvm. The fit time scales at least quadratically with the number of samples and may be impractical beyond tens of thousands of samples. For large datasets consider using LinearSVC or SGDClassifier instead, possibly after a Nystroem transformer.\n",
        "---\n",
        "*   A decision tree is a flowchart-like tree structure where an internal node represents feature(or attribute), the branch represents a decision rule, and each leaf node represents the outcome. The topmost node in a decision tree is known as the root node. It learns to partition on the basis of the attribute value. It partitions the tree in recursively manner call recursive partitioning.\n",
        "---\n",
        "*   Random forests or random decision forests are an ensemble learning method for classification, regression and other tasks that operates by constructing a multitude of decision trees at training time and outputting the class that is the mode of the classes (classification) or mean/average prediction (regression) of the individual trees.\n",
        "---\n",
        "*   KNN is a non-parametric and lazy learning algorithm. Non-parametric means there is no assumption for underlying data distribution. In other words, the model structure determined from the dataset. This will be very helpful in practice where most of the real world datasets do not follow mathematical theoretical assumptions. \n",
        "---\n",
        "As you can see above we mentioned about classification methods. We compare them at below. For our dataset we need to choose best method which provides best accuracy point."
      ]
    },
    {
      "cell_type": "code",
      "metadata": {
        "colab": {
          "base_uri": "https://localhost:8080/"
        },
        "id": "O7wWzN_Lhhrl",
        "outputId": "d31213a0-3c1c-40e5-8988-bb1e0f1aae5b"
      },
      "source": [
        "classifiers = []\n",
        "model1 = xgboost.XGBClassifier()\n",
        "classifiers.append(model1)\n",
        "model2 = svm.SVC()\n",
        "classifiers.append(model2)\n",
        "model3 = tree.DecisionTreeClassifier()\n",
        "classifiers.append(model3)\n",
        "model4 = RandomForestClassifier()\n",
        "classifiers.append(model4)\n",
        "model5 = KNeighborsClassifier()\n",
        "classifiers.append(model5)\n",
        "\n",
        "\n",
        "for clf in classifiers:\n",
        "    clf.fit(X_train, y_train)\n",
        "    y_pred= clf.predict(X_test)\n",
        "    acc = accuracy_score(y_test, y_pred)\n",
        "    print(\"Accuracy of %s is %s\"%(clf, acc))\n",
        "    print(\"********************************\")\n"
      ],
      "execution_count": null,
      "outputs": [
        {
          "output_type": "stream",
          "text": [
            "Accuracy of XGBClassifier(base_score=0.5, booster='gbtree', colsample_bylevel=1,\n",
            "              colsample_bynode=1, colsample_bytree=1, gamma=0,\n",
            "              learning_rate=0.1, max_delta_step=0, max_depth=3,\n",
            "              min_child_weight=1, missing=None, n_estimators=100, n_jobs=1,\n",
            "              nthread=None, objective='binary:logistic', random_state=0,\n",
            "              reg_alpha=0, reg_lambda=1, scale_pos_weight=1, seed=None,\n",
            "              silent=None, subsample=1, verbosity=1) is 0.9643478260869566\n",
            "********************************\n",
            "Accuracy of SVC(C=1.0, break_ties=False, cache_size=200, class_weight=None, coef0=0.0,\n",
            "    decision_function_shape='ovr', degree=3, gamma='scale', kernel='rbf',\n",
            "    max_iter=-1, probability=False, random_state=None, shrinking=True,\n",
            "    tol=0.001, verbose=False) is 0.9628985507246377\n",
            "********************************\n",
            "Accuracy of DecisionTreeClassifier(ccp_alpha=0.0, class_weight=None, criterion='gini',\n",
            "                       max_depth=None, max_features=None, max_leaf_nodes=None,\n",
            "                       min_impurity_decrease=0.0, min_impurity_split=None,\n",
            "                       min_samples_leaf=1, min_samples_split=2,\n",
            "                       min_weight_fraction_leaf=0.0, presort='deprecated',\n",
            "                       random_state=None, splitter='best') is 0.9434782608695652\n",
            "********************************\n",
            "Accuracy of RandomForestClassifier(bootstrap=True, ccp_alpha=0.0, class_weight=None,\n",
            "                       criterion='gini', max_depth=None, max_features='auto',\n",
            "                       max_leaf_nodes=None, max_samples=None,\n",
            "                       min_impurity_decrease=0.0, min_impurity_split=None,\n",
            "                       min_samples_leaf=1, min_samples_split=2,\n",
            "                       min_weight_fraction_leaf=0.0, n_estimators=100,\n",
            "                       n_jobs=None, oob_score=False, random_state=None,\n",
            "                       verbose=0, warm_start=False) is 0.9768115942028985\n",
            "********************************\n",
            "Accuracy of KNeighborsClassifier(algorithm='auto', leaf_size=30, metric='minkowski',\n",
            "                     metric_params=None, n_jobs=None, n_neighbors=5, p=2,\n",
            "                     weights='uniform') is 0.9194202898550725\n",
            "********************************\n"
          ],
          "name": "stdout"
        }
      ]
    },
    {
      "cell_type": "markdown",
      "metadata": {
        "id": "uefY0x9vi-eW"
      },
      "source": [
        "With the highest point 0.97-0.98 we choosed Random Forest Classification for our dataframe predictions. In our point this classification method gives us best point because from the we need to 2 class for prediction. We have advantages of use random forest classification like :\n",
        "\n",
        "\n",
        "*   Random forests is considered as a highly accurate and robust method because of the number of decision trees participating in the process.\n",
        "*   It does not suffer from the overfitting problem. The main reason is that it \n",
        "takes the average of all the predictions, which cancels out the biases.\n",
        "*   You can get the relative feature importance, which helps in selecting the most contributing features for the classifier.\n",
        "\n",
        "\n",
        "We have lots of columns at our dataset so we need to merge them to have higher quality result. For this we are going to use PCA method.\n",
        "*   The principal components of a collection of points in a real coordinate space are a sequence of p unit vectors, where the i-th vector is the direction of a line that best fits the data while being orthogonal to the first i-1 vectors.\n",
        "\n",
        "We print first graph for components and variance for choose how many components are we going to create for our pipeline. As you can see from graph we have elbow at number of components between 30 and 50. So we can choose 45 components for our pipeline structure. \n",
        "\n"
      ]
    },
    {
      "cell_type": "code",
      "metadata": {
        "colab": {
          "base_uri": "https://localhost:8080/",
          "height": 279
        },
        "id": "_Xg6CUXvjBKJ",
        "outputId": "9bbd1a8c-f8cc-4fca-871c-bcb2d8e0e2bb"
      },
      "source": [
        "\n",
        "pca = PCA(whiten= True).fit(df_droppep)\n",
        "plt.plot(np.cumsum(pca.explained_variance_ratio_))\n",
        "plt.xlabel('Number Of Components')\n",
        "plt.ylabel(\"Cumulative explained variance\")\n",
        "plt.show()"
      ],
      "execution_count": null,
      "outputs": [
        {
          "output_type": "display_data",
          "data": {
            "image/png": "[encoded data removed]",
            "text/plain": [
              "<Figure size 432x288 with 1 Axes>"
            ]
          },
          "metadata": {
            "tags": [],
            "needs_background": "light"
          }
        }
      ]
    },
    {
      "cell_type": "markdown",
      "metadata": {
        "id": "2zPMYwAujCaf"
      },
      "source": [
        "We create our pipeline with PCA and RandomForestClassifier methods. Pca with 45 components. Also we want to see difference between two classification methods. So, we choose SVC for compare with our main classifier method."
      ]
    },
    {
      "cell_type": "code",
      "metadata": {
        "id": "Fv0WGLemhhrm"
      },
      "source": [
        "pipe = Pipeline([('pca', PCA(n_components = 45)),('forest', RandomForestClassifier())])\n",
        "pipe.fit(X_train,y_train)\n",
        "y_pred = pipe.predict(X_test)\n",
        "\n",
        "\n",
        "\n",
        "rfc = RandomForestClassifier()\n",
        "rfc.fit(X_train,y_train)\n",
        "y_pred_vPCA = rfc.predict(X_test)"
      ],
      "execution_count": null,
      "outputs": []
    },
    {
      "cell_type": "code",
      "metadata": {
        "colab": {
          "base_uri": "https://localhost:8080/",
          "height": 279
        },
        "id": "3Y7HzcmqjGrC",
        "outputId": "d1766902-fdbc-4b24-daa3-e3420466ad47"
      },
      "source": [
        "\n",
        "pipe2 = Pipeline([('pca', PCA(n_components = 45)),('svc',SVC(random_state=42))])\n",
        "svc = pipe2.fit(X_train,y_train)\n",
        "y_pred_svc = pipe2.predict(X_test)\n",
        "svc_disp = plot_roc_curve(svc ,X_test, y_test)\n",
        "plt.show()\n"
      ],
      "execution_count": null,
      "outputs": [
        {
          "output_type": "display_data",
          "data": {
            "image/png": "[encoded data removed]",
            "text/plain": [
              "<Figure size 432x288 with 1 Axes>"
            ]
          },
          "metadata": {
            "tags": [],
            "needs_background": "light"
          }
        }
      ]
    },
    {
      "cell_type": "code",
      "metadata": {
        "id": "13e92OdKlVss"
      },
      "source": [
        "P"
      ],
      "execution_count": null,
      "outputs": []
    },
    {
      "cell_type": "markdown",
      "metadata": {
        "id": "5oZYc49ihhrm"
      },
      "source": [
        "## Evaluation<a class=\"anchor\" id=\"evaluation\"></a>"
      ]
    },
    {
      "cell_type": "code",
      "metadata": {
        "colab": {
          "base_uri": "https://localhost:8080/",
          "height": 296
        },
        "id": "xiGVGUvzhhrm",
        "outputId": "7873d422-eea9-40de-f074-a47a7983234b"
      },
      "source": [
        "mat = confusion_matrix(y_test, y_pred)\n",
        "sns.heatmap(mat.T,square = True , annot = True, fmt = 'd')\n",
        "plt.title(\"RandomForestClassifier Normalized Visualization with PCA\")\n",
        "plt.xlabel('y_test')\n",
        "plt.ylabel('predicted class')\n",
        "plt.show()"
      ],
      "execution_count": null,
      "outputs": [
        {
          "output_type": "display_data",
          "data": {
            "image/png": "[encoded data removed]",
            "text/plain": [
              "<Figure size 432x288 with 2 Axes>"
            ]
          },
          "metadata": {
            "tags": [],
            "needs_background": "light"
          }
        }
      ]
    },
    {
      "cell_type": "code",
      "metadata": {
        "colab": {
          "base_uri": "https://localhost:8080/",
          "height": 296
        },
        "id": "9kB5obPGjJHB",
        "outputId": "811abf77-8e01-4171-8a81-b5c1dc12f756"
      },
      "source": [
        "mat = confusion_matrix(y_test, y_pred_vPCA)\n",
        "sns.heatmap(mat.T,square = True , annot = True, fmt = 'd')\n",
        "plt.title(\"RandomForestClassifier Normalized Visualization without PCA\")\n",
        "plt.xlabel('y_test')\n",
        "plt.ylabel('predicted class')\n",
        "plt.show()"
      ],
      "execution_count": null,
      "outputs": [
        {
          "output_type": "display_data",
          "data": {
            "image/png": "[encoded data removed]",
            "text/plain": [
              "<Figure size 432x288 with 2 Axes>"
            ]
          },
          "metadata": {
            "tags": [],
            "needs_background": "light"
          }
        }
      ]
    },
    {
      "cell_type": "code",
      "metadata": {
        "colab": {
          "base_uri": "https://localhost:8080/",
          "height": 296
        },
        "id": "gUvaaTVbjJ_v",
        "outputId": "94b398fc-f371-4ba3-c0ec-1f00a0226081"
      },
      "source": [
        "mat = confusion_matrix(y_test, y_pred_svc)\n",
        "sns.heatmap(mat.T,square = True , annot = True, fmt = 'd')\n",
        "plt.title(\"SVC Normalized Visualization with PCA\")\n",
        "plt.xlabel('y_test')\n",
        "plt.ylabel('predicted class')\n",
        "plt.show()"
      ],
      "execution_count": null,
      "outputs": [
        {
          "output_type": "display_data",
          "data": {
            "image/png": "[encoded data removed]",
            "text/plain": [
              "<Figure size 432x288 with 2 Axes>"
            ]
          },
          "metadata": {
            "tags": [],
            "needs_background": "light"
          }
        }
      ]
    },
    {
      "cell_type": "markdown",
      "metadata": {
        "id": "U3B_Z9ZUhhrm"
      },
      "source": [
        "Evaluate your model. Provide results, tables, charts, etc."
      ]
    },
    {
      "cell_type": "code",
      "metadata": {
        "colab": {
          "base_uri": "https://localhost:8080/",
          "height": 468
        },
        "id": "9zgcTXo2hhrm",
        "outputId": "e7552bf0-8585-4912-9759-97358461678a"
      },
      "source": [
        "from sklearn.metrics import roc_curve, auc\n",
        "\n",
        "rf_clf = RandomForestClassifier(n_estimators=100)\n",
        "rf_clf.fit(X_train, y_train)\n",
        "\n",
        "probas = rf_clf.predict_proba(X_test)\n",
        "fpr, tpr, thresholds = roc_curve(y_test, probas[:,0], pos_label=0)\n",
        "roc_auc = auc(fpr, tpr)\n",
        "plt.figure(dpi=150)\n",
        "plt.plot(fpr, tpr, lw=1, color='green', label=f'AUC = {roc_auc:.3f}')\n",
        "plt.title('ROC Curve for RF classifier')\n",
        "plt.xlabel('False Positive Rate')\n",
        "plt.ylabel('True Positive Rate (Recall)')\n",
        "plt.xlim([-0.05, 1.05])\n",
        "plt.ylim([-0.05, 1.05])\n",
        "plt.legend()\n",
        "plt.show()\n"
      ],
      "execution_count": null,
      "outputs": [
        {
          "output_type": "display_data",
          "data": {
            "image/png": "[encoded data removed]",
            "text/plain": [
              "<Figure size 900x600 with 1 Axes>"
            ]
          },
          "metadata": {
            "tags": [],
            "needs_background": "light"
          }
        }
      ]
    },
    {
      "cell_type": "code",
      "metadata": {
        "colab": {
          "base_uri": "https://localhost:8080/",
          "height": 279
        },
        "id": "GctrKA9KjM-N",
        "outputId": "41b92734-d5cd-4f3a-d2d2-31cf8b316595"
      },
      "source": [
        "ax = plt.gca()\n",
        "rfc_disp = plot_roc_curve(rfc, X_test, y_test, ax=ax, alpha=0.8)\n",
        "svc_disp.plot(ax=ax, alpha=0.8)\n",
        "plt.show()\n"
      ],
      "execution_count": null,
      "outputs": [
        {
          "output_type": "display_data",
          "data": {
            "image/png": "[encoded data removed]",
            "text/plain": [
              "<Figure size 432x288 with 1 Axes>"
            ]
          },
          "metadata": {
            "tags": [],
            "needs_background": "light"
          }
        }
      ]
    },
    {
      "cell_type": "markdown",
      "metadata": {
        "id": "qd4wnAOJjNp9"
      },
      "source": [
        "We compare two classification method with thier auc score. We choosed random forest classifier before from its better accuracy. But We want to show differences at their performance. You can see differences between heatmaps as well. There is little difference with svc and randomforest classifier. "
      ]
    },
    {
      "cell_type": "markdown",
      "metadata": {
        "id": "zJNORm3EjYse"
      },
      "source": [
        "At last we can see our prediction methods work with nice accuracy. From these methods can improvable and it can help neurologist for detect epileptic seizure. "
      ]
    },
    {
      "cell_type": "markdown",
      "metadata": {
        "id": "Lt_LIpQnhhrm"
      },
      "source": [
        "## References<a class=\"anchor\" id=\"references\"></a>"
      ]
    },
    {
      "cell_type": "markdown",
      "metadata": {
        "id": "XpdvI_9Chhrn"
      },
      "source": [
        "**All the sources we used during our work.**\n",
        "\n",
        "*   https://www.kaggle.com/jaketuricchi/using-pca-and-clustering-to-improve-classification\n",
        "*   https://machinelearningmastery.com/calculate-feature-importance-with-python/#:~:text=Feature%20importance%20refers%20to%20techniques,at%20predicting%20a%20target%20variable.\n",
        "*   https://www.datacamp.com/community/tutorials/random-forests-classifier-python\n",
        "*   https://scikit-learn.org/stable/modules/generated/sklearn.metrics.accuracy_score.html\n",
        "*   https://www.analyseup.com/learn-python-for-data-science/python-random-forest-feature-importance-plot.html\n",
        "*   https://www.kdnuggets.com/2017/06/7-steps-mastering-data-preparation-python.html\n",
        "*   https://www.kaggle.com/harunshimanto/epileptic-seizure-recognition\n",
        "*   https://www.healthline.com/health/epilepsy\n",
        "*   https://www.datatechnotes.com/2019/07/classification-example-with.html\n",
        "*   https://scikit-learn.org/stable/modules/generated/sklearn.svm.SVC.html\n",
        "*   https://www.datacamp.com/community/tutorials/decision-tree-classification-python\n",
        "*   https://en.wikipedia.org/wiki/Principal_component_analysis\n",
        "*   https://medium.com/@gulcanogundur/pca-principal-component-analysis-temel-bile%C5%9Fenler-analizi-bf9098751c62\n"
      ]
    },
    {
      "cell_type": "markdown",
      "metadata": {
        "id": "w1sja8AZhhrn"
      },
      "source": [
        "\n",
        "**Disclaimer!** <font color='grey'>This notebook was prepared by Ozar Ömer Uncu and Uğurcan Bağrıyanık as an assigment for the *BBM469 - Data Intensive Applications Laboratory* class. The notebook is available for educational purposes only. There is no guarantee on the correctness of the content provided as it is a student work.\n",
        "\n",
        "If you think there is any copyright violation, please let us [know](https://forms.gle/BNNRB2kR8ZHVEREq8). \n",
        "</font>"
      ]
    }
  ]
}