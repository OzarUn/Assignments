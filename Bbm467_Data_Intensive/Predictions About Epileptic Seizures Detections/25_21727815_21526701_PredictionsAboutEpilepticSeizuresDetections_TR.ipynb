{
 "cells": [
  {
   "cell_type": "markdown",
   "metadata": {
    "id": "hEQ1ErpCpGL8"
   },
   "source": [
    "# Epilepsi Kriz Tahmini\n",
    "\n",
    "\n",
    "#### Ozar Ömer Uncu - 21727815 \n",
    "#### Uğurcan Bağrıyanık - 21526701\n",
    "\n",
    "\n",
    "Bu projede, epileptik nöbet tespiti özelliğine sahip, çok yaygın olarak kullanılan bir veri setinin önceden işlenmiş ve yeniden yapılandırılmış / yeniden şekillendirilmiş versiyonunu kullandık. Her veri noktası, zaman içinde farklı bir noktadaki EEG kaydının değeridir.\n",
    "* EGG (elektroensefalogram), kafa derinize takılı küçük, metal diskler (elektrotlar) kullanarak beyninizdeki elektriksel aktiviteyi tespit eden bir testtir.\n",
    "\n",
    "Epileptik nöbet geçirme ya da geçirmeme şeklinde 5 tip reaksiyonumuz var. 4 tip reaksiyonda nöbet yok, sadece kişinin çeşitli özelliklerine göre nöbet var. Veri setimizi epileptik nöbet geçirip geçirmemek olarak küçülteceğiz. Projede çeşitli sınıflandırma yöntemlerini (RandomForestClassifier, KNeighborsClassifier, SVM, Decision Tree Classifier, XGBClassifier) ​​kullandık ve karşılaştırdık. En iyi doğruluk puanına katkıda bulunacak olanı seçtik."
   ]
  },
  {
   "cell_type": "code",
   "execution_count": null,
   "metadata": {
    "id": "gFoSCM0ipGL-"
   },
   "outputs": [],
   "source": [
    "import pandas as pd\n",
    "import numpy as np\n",
    "import seaborn as sns\n",
    "import matplotlib.pyplot as plt\n",
    "from sklearn.preprocessing import LabelEncoder\n",
    "from sklearn.preprocessing import MinMaxScaler\n",
    "from sklearn.model_selection import train_test_split\n",
    "from sklearn.neighbors import KNeighborsClassifier\n",
    "from sklearn.ensemble import RandomForestClassifier\n",
    "from sklearn import svm, tree\n",
    "import xgboost\n",
    "from sklearn.metrics import accuracy_score\n",
    "from sklearn.metrics import confusion_matrix\n",
    "\n",
    "%matplotlib inline"
   ]
  },
  {
   "cell_type": "markdown",
   "metadata": {
    "id": "8YmERLjspGMH"
   },
   "source": [
    "bold text## İçerik\n",
    "\n",
    "[Amaç](#purpose)   \n",
    "[Verinin Anlaşılması](#data_understanding)   \n",
    "[Verilerin Hazırlanması](#data_preparation)   \n",
    "[Modeling for Clustering](#clusteringmodel)  \n",
    "[Clustering results](#clustering)    \n",
    "[Modeling for Classification](#classificationmodel)  \n",
    "[Evaluation](#evaluation)  \n",
    "[References](#references)   \n"
   ]
  },
  {
   "cell_type": "markdown",
   "metadata": {
    "id": "clDpC-2kpGMR"
   },
   "source": [
    "## Purpose <a class=\"anchor\" id=\"purpose\"></a>"
   ]
  },
  {
   "cell_type": "markdown",
   "metadata": {
    "id": "It7OxV2ypGMS"
   },
   "source": [
    "Epilepsi, dünya çapında 65 milyon insanı etkileyen oldukça yaygın bir nörolojik hastalıktır. Herkes epilepsi geçirebilir, ancak küçük çocuklarda ve yaşlı yetişkinlerde daha yaygındır. Erkeklerde kadınlara göre biraz daha fazla görülür.\n",
    "\n",
    "\n",
    "Bu deneyde insanlara, epilepsi nöbeti tespit etmenin makine öğrenimi yöntemleriyle mümkün olabileceğini göstermek istiyoruz. Bu notebook, 178 veri kolonundan tahminler sağlar.\n",
    "Ayrıca PCA yöntemi ile birden fazla kolonu birleştirme avantajına sahibiz.Bu notebook aynı zamanda nörologların iş yükünün azaltılmasına da katkıda bulunuyor.\n",
    "Sorunun çözümüne katkı sağlamaz, ancak bazı sınıfların verilerden daha kolaylıkla algılanmasına yardımcı olabilir.\n",
    "\n"
   ]
  },
  {
   "cell_type": "markdown",
   "metadata": {
    "id": "JuZmF4SvpGMc"
   },
   "source": [
    "## Verinin Anlaşılması<a class=\"anchor\" id=\"data_understanding\"></a>"
   ]
  },
  {
   "cell_type": "markdown",
   "metadata": {
    "id": "T7vgFxc9wreG"
   },
   "source": [
    "Aşağıda görebileceğiniz gibi veri setimizi öncelikle csv uzantılı dosyadan okuyoruz. Dataframe'i panda dataframe'e çeviriyoruz. Ve sonra EEG sonuçlarının  dağılımını göstermek istiyoruz. Görebiliyoruz ki, dataframe'imizde aynı miktarda sınıfımız var. Bunu grafiğin altındaki tablodan da söyleyebiliriz. Y sütun verilerimizin ortalamasının 3'e eşit olduğunu görebilirsiniz."
   ]
  },
  {
   "cell_type": "code",
   "execution_count": null,
   "metadata": {
    "colab": {
     "base_uri": "https://localhost:8080/",
     "height": 642
    },
    "id": "kJENPg1KpGMd",
    "outputId": "f2799741-4f23-44bc-b53c-cf672c450b65"
   },
   "outputs": [
    {
     "name": "stderr",
     "output_type": "stream",
     "text": [
      "/usr/local/lib/python3.7/dist-packages/seaborn/_decorators.py:43: FutureWarning: Pass the following variable as a keyword arg: x. From version 0.12, the only valid positional argument will be `data`, and passing other arguments without an explicit keyword will result in an error or misinterpretation.\n",
      "  FutureWarning\n"
     ]
    },
    {
     "data": {
      "image/png": "[encoded data removed]",
      "text/plain": [
       "<Figure size 432x288 with 1 Axes>"
      ]
     },
     "metadata": {
      "needs_background": "light",
      "tags": []
     },
     "output_type": "display_data"
    },
    {
     "data": {
      "text/html": [
       "<div>\n",
       "<style scoped>\n",
       "    .dataframe tbody tr th:only-of-type {\n",
       "        vertical-align: middle;\n",
       "    }\n",
       "\n",
       "    .dataframe tbody tr th {\n",
       "        vertical-align: top;\n",
       "    }\n",
       "\n",
       "    .dataframe thead th {\n",
       "        text-align: right;\n",
       "    }\n",
       "</style>\n",
       "<table border=\"1\" class=\"dataframe\">\n",
       "  <thead>\n",
       "    <tr style=\"text-align: right;\">\n",
       "      <th></th>\n",
       "      <th>X1</th>\n",
       "      <th>X2</th>\n",
       "      <th>X3</th>\n",
       "      <th>X4</th>\n",
       "      <th>X5</th>\n",
       "      <th>X6</th>\n",
       "      <th>X7</th>\n",
       "      <th>X8</th>\n",
       "      <th>X9</th>\n",
       "      <th>X10</th>\n",
       "      <th>X11</th>\n",
       "      <th>X12</th>\n",
       "      <th>X13</th>\n",
       "      <th>X14</th>\n",
       "      <th>X15</th>\n",
       "      <th>X16</th>\n",
       "      <th>X17</th>\n",
       "      <th>X18</th>\n",
       "      <th>X19</th>\n",
       "      <th>X20</th>\n",
       "      <th>X21</th>\n",
       "      <th>X22</th>\n",
       "      <th>X23</th>\n",
       "      <th>X24</th>\n",
       "      <th>X25</th>\n",
       "      <th>X26</th>\n",
       "      <th>X27</th>\n",
       "      <th>X28</th>\n",
       "      <th>X29</th>\n",
       "      <th>X30</th>\n",
       "      <th>X31</th>\n",
       "      <th>X32</th>\n",
       "      <th>X33</th>\n",
       "      <th>X34</th>\n",
       "      <th>X35</th>\n",
       "      <th>X36</th>\n",
       "      <th>X37</th>\n",
       "      <th>X38</th>\n",
       "      <th>X39</th>\n",
       "      <th>X40</th>\n",
       "      <th>...</th>\n",
       "      <th>X140</th>\n",
       "      <th>X141</th>\n",
       "      <th>X142</th>\n",
       "      <th>X143</th>\n",
       "      <th>X144</th>\n",
       "      <th>X145</th>\n",
       "      <th>X146</th>\n",
       "      <th>X147</th>\n",
       "      <th>X148</th>\n",
       "      <th>X149</th>\n",
       "      <th>X150</th>\n",
       "      <th>X151</th>\n",
       "      <th>X152</th>\n",
       "      <th>X153</th>\n",
       "      <th>X154</th>\n",
       "      <th>X155</th>\n",
       "      <th>X156</th>\n",
       "      <th>X157</th>\n",
       "      <th>X158</th>\n",
       "      <th>X159</th>\n",
       "      <th>X160</th>\n",
       "      <th>X161</th>\n",
       "      <th>X162</th>\n",
       "      <th>X163</th>\n",
       "      <th>X164</th>\n",
       "      <th>X165</th>\n",
       "      <th>X166</th>\n",
       "      <th>X167</th>\n",
       "      <th>X168</th>\n",
       "      <th>X169</th>\n",
       "      <th>X170</th>\n",
       "      <th>X171</th>\n",
       "      <th>X172</th>\n",
       "      <th>X173</th>\n",
       "      <th>X174</th>\n",
       "      <th>X175</th>\n",
       "      <th>X176</th>\n",
       "      <th>X177</th>\n",
       "      <th>X178</th>\n",
       "      <th>y</th>\n",
       "    </tr>\n",
       "  </thead>\n",
       "  <tbody>\n",
       "    <tr>\n",
       "      <th>count</th>\n",
       "      <td>11500.000000</td>\n",
       "      <td>11500.000000</td>\n",
       "      <td>11500.000000</td>\n",
       "      <td>11500.000000</td>\n",
       "      <td>11500.000000</td>\n",
       "      <td>11500.000000</td>\n",
       "      <td>11500.000000</td>\n",
       "      <td>11500.00000</td>\n",
       "      <td>11500.00000</td>\n",
       "      <td>11500.000000</td>\n",
       "      <td>11500.000000</td>\n",
       "      <td>11500.000000</td>\n",
       "      <td>11500.000000</td>\n",
       "      <td>11500.000000</td>\n",
       "      <td>11500.000000</td>\n",
       "      <td>11500.000000</td>\n",
       "      <td>11500.000000</td>\n",
       "      <td>11500.000000</td>\n",
       "      <td>11500.000000</td>\n",
       "      <td>11500.000000</td>\n",
       "      <td>11500.000000</td>\n",
       "      <td>11500.000000</td>\n",
       "      <td>11500.000000</td>\n",
       "      <td>11500.000000</td>\n",
       "      <td>11500.000000</td>\n",
       "      <td>11500.00000</td>\n",
       "      <td>11500.000000</td>\n",
       "      <td>11500.000000</td>\n",
       "      <td>11500.000000</td>\n",
       "      <td>11500.000000</td>\n",
       "      <td>11500.000000</td>\n",
       "      <td>11500.000000</td>\n",
       "      <td>11500.000000</td>\n",
       "      <td>11500.000000</td>\n",
       "      <td>11500.000000</td>\n",
       "      <td>11500.000000</td>\n",
       "      <td>11500.000000</td>\n",
       "      <td>11500.000000</td>\n",
       "      <td>11500.000000</td>\n",
       "      <td>11500.000000</td>\n",
       "      <td>...</td>\n",
       "      <td>11500.000000</td>\n",
       "      <td>11500.000000</td>\n",
       "      <td>11500.000000</td>\n",
       "      <td>11500.000000</td>\n",
       "      <td>11500.000000</td>\n",
       "      <td>11500.000000</td>\n",
       "      <td>11500.000000</td>\n",
       "      <td>11500.000000</td>\n",
       "      <td>11500.000000</td>\n",
       "      <td>11500.000000</td>\n",
       "      <td>11500.000000</td>\n",
       "      <td>11500.000000</td>\n",
       "      <td>11500.000000</td>\n",
       "      <td>11500.000000</td>\n",
       "      <td>11500.000000</td>\n",
       "      <td>11500.000000</td>\n",
       "      <td>11500.000000</td>\n",
       "      <td>11500.000000</td>\n",
       "      <td>11500.000000</td>\n",
       "      <td>11500.000000</td>\n",
       "      <td>11500.000000</td>\n",
       "      <td>11500.000000</td>\n",
       "      <td>11500.000000</td>\n",
       "      <td>11500.000000</td>\n",
       "      <td>11500.000000</td>\n",
       "      <td>11500.000000</td>\n",
       "      <td>11500.000000</td>\n",
       "      <td>11500.000000</td>\n",
       "      <td>11500.000000</td>\n",
       "      <td>11500.000000</td>\n",
       "      <td>11500.000000</td>\n",
       "      <td>11500.000000</td>\n",
       "      <td>11500.000000</td>\n",
       "      <td>11500.000000</td>\n",
       "      <td>11500.000000</td>\n",
       "      <td>11500.000000</td>\n",
       "      <td>11500.000000</td>\n",
       "      <td>11500.000000</td>\n",
       "      <td>11500.000000</td>\n",
       "      <td>11500.000000</td>\n",
       "    </tr>\n",
       "    <tr>\n",
       "      <th>mean</th>\n",
       "      <td>-11.581391</td>\n",
       "      <td>-10.911565</td>\n",
       "      <td>-10.187130</td>\n",
       "      <td>-9.143043</td>\n",
       "      <td>-8.009739</td>\n",
       "      <td>-7.003478</td>\n",
       "      <td>-6.502087</td>\n",
       "      <td>-6.68713</td>\n",
       "      <td>-6.55800</td>\n",
       "      <td>-6.168435</td>\n",
       "      <td>-5.827478</td>\n",
       "      <td>-6.042174</td>\n",
       "      <td>-6.687304</td>\n",
       "      <td>-7.088870</td>\n",
       "      <td>-7.211217</td>\n",
       "      <td>-7.088261</td>\n",
       "      <td>-6.806696</td>\n",
       "      <td>-6.744696</td>\n",
       "      <td>-6.484783</td>\n",
       "      <td>-6.448435</td>\n",
       "      <td>-6.355391</td>\n",
       "      <td>-6.543130</td>\n",
       "      <td>-6.884348</td>\n",
       "      <td>-6.883217</td>\n",
       "      <td>-6.118870</td>\n",
       "      <td>-5.15913</td>\n",
       "      <td>-4.785652</td>\n",
       "      <td>-4.874783</td>\n",
       "      <td>-5.393565</td>\n",
       "      <td>-5.935478</td>\n",
       "      <td>-6.349913</td>\n",
       "      <td>-6.212522</td>\n",
       "      <td>-5.859826</td>\n",
       "      <td>-5.299826</td>\n",
       "      <td>-4.955652</td>\n",
       "      <td>-5.278087</td>\n",
       "      <td>-6.162261</td>\n",
       "      <td>-7.316609</td>\n",
       "      <td>-7.998522</td>\n",
       "      <td>-7.818870</td>\n",
       "      <td>...</td>\n",
       "      <td>-6.997304</td>\n",
       "      <td>-7.339391</td>\n",
       "      <td>-7.911565</td>\n",
       "      <td>-8.177304</td>\n",
       "      <td>-8.608870</td>\n",
       "      <td>-8.578087</td>\n",
       "      <td>-8.240000</td>\n",
       "      <td>-7.691391</td>\n",
       "      <td>-7.356522</td>\n",
       "      <td>-7.228783</td>\n",
       "      <td>-6.980870</td>\n",
       "      <td>-6.756783</td>\n",
       "      <td>-6.355304</td>\n",
       "      <td>-6.423826</td>\n",
       "      <td>-6.465217</td>\n",
       "      <td>-6.316435</td>\n",
       "      <td>-5.808000</td>\n",
       "      <td>-5.255913</td>\n",
       "      <td>-4.682087</td>\n",
       "      <td>-4.638609</td>\n",
       "      <td>-4.770261</td>\n",
       "      <td>-5.650870</td>\n",
       "      <td>-7.170348</td>\n",
       "      <td>-8.759826</td>\n",
       "      <td>-9.784783</td>\n",
       "      <td>-10.096261</td>\n",
       "      <td>-9.842957</td>\n",
       "      <td>-9.701739</td>\n",
       "      <td>-9.351391</td>\n",
       "      <td>-9.498870</td>\n",
       "      <td>-10.145739</td>\n",
       "      <td>-11.630348</td>\n",
       "      <td>-12.943478</td>\n",
       "      <td>-13.668870</td>\n",
       "      <td>-13.363304</td>\n",
       "      <td>-13.045043</td>\n",
       "      <td>-12.705130</td>\n",
       "      <td>-12.426000</td>\n",
       "      <td>-12.195652</td>\n",
       "      <td>3.000000</td>\n",
       "    </tr>\n",
       "    <tr>\n",
       "      <th>std</th>\n",
       "      <td>165.626284</td>\n",
       "      <td>166.059609</td>\n",
       "      <td>163.524317</td>\n",
       "      <td>161.269041</td>\n",
       "      <td>160.998007</td>\n",
       "      <td>161.328725</td>\n",
       "      <td>161.467837</td>\n",
       "      <td>162.11912</td>\n",
       "      <td>162.03336</td>\n",
       "      <td>160.436352</td>\n",
       "      <td>160.471017</td>\n",
       "      <td>161.181118</td>\n",
       "      <td>165.071121</td>\n",
       "      <td>169.198359</td>\n",
       "      <td>170.641967</td>\n",
       "      <td>168.930355</td>\n",
       "      <td>164.646296</td>\n",
       "      <td>162.062661</td>\n",
       "      <td>162.571333</td>\n",
       "      <td>162.339911</td>\n",
       "      <td>162.823325</td>\n",
       "      <td>163.909723</td>\n",
       "      <td>165.844176</td>\n",
       "      <td>166.009100</td>\n",
       "      <td>164.715153</td>\n",
       "      <td>162.77423</td>\n",
       "      <td>162.902294</td>\n",
       "      <td>164.799831</td>\n",
       "      <td>165.391697</td>\n",
       "      <td>164.291120</td>\n",
       "      <td>163.165167</td>\n",
       "      <td>163.408052</td>\n",
       "      <td>163.561408</td>\n",
       "      <td>162.548119</td>\n",
       "      <td>160.813772</td>\n",
       "      <td>160.441049</td>\n",
       "      <td>162.881958</td>\n",
       "      <td>166.235164</td>\n",
       "      <td>166.314965</td>\n",
       "      <td>164.513017</td>\n",
       "      <td>...</td>\n",
       "      <td>168.567495</td>\n",
       "      <td>168.662705</td>\n",
       "      <td>167.643458</td>\n",
       "      <td>167.414439</td>\n",
       "      <td>167.922773</td>\n",
       "      <td>168.274009</td>\n",
       "      <td>167.808218</td>\n",
       "      <td>166.739558</td>\n",
       "      <td>165.678558</td>\n",
       "      <td>167.130911</td>\n",
       "      <td>168.156296</td>\n",
       "      <td>167.459868</td>\n",
       "      <td>165.061414</td>\n",
       "      <td>164.248830</td>\n",
       "      <td>166.226332</td>\n",
       "      <td>168.143625</td>\n",
       "      <td>167.067064</td>\n",
       "      <td>166.446540</td>\n",
       "      <td>167.554020</td>\n",
       "      <td>169.418457</td>\n",
       "      <td>170.639171</td>\n",
       "      <td>170.817824</td>\n",
       "      <td>168.145372</td>\n",
       "      <td>166.817974</td>\n",
       "      <td>166.999981</td>\n",
       "      <td>167.756860</td>\n",
       "      <td>166.988820</td>\n",
       "      <td>167.062497</td>\n",
       "      <td>166.606345</td>\n",
       "      <td>165.235574</td>\n",
       "      <td>164.652883</td>\n",
       "      <td>166.149790</td>\n",
       "      <td>168.554058</td>\n",
       "      <td>168.556486</td>\n",
       "      <td>167.257290</td>\n",
       "      <td>164.241019</td>\n",
       "      <td>162.895832</td>\n",
       "      <td>162.886311</td>\n",
       "      <td>164.852015</td>\n",
       "      <td>1.414275</td>\n",
       "    </tr>\n",
       "    <tr>\n",
       "      <th>min</th>\n",
       "      <td>-1839.000000</td>\n",
       "      <td>-1838.000000</td>\n",
       "      <td>-1835.000000</td>\n",
       "      <td>-1845.000000</td>\n",
       "      <td>-1791.000000</td>\n",
       "      <td>-1757.000000</td>\n",
       "      <td>-1832.000000</td>\n",
       "      <td>-1778.00000</td>\n",
       "      <td>-1840.00000</td>\n",
       "      <td>-1867.000000</td>\n",
       "      <td>-1765.000000</td>\n",
       "      <td>-1803.000000</td>\n",
       "      <td>-1833.000000</td>\n",
       "      <td>-1867.000000</td>\n",
       "      <td>-1870.000000</td>\n",
       "      <td>-1839.000000</td>\n",
       "      <td>-1867.000000</td>\n",
       "      <td>-1856.000000</td>\n",
       "      <td>-1844.000000</td>\n",
       "      <td>-1717.000000</td>\n",
       "      <td>-1764.000000</td>\n",
       "      <td>-1856.000000</td>\n",
       "      <td>-1844.000000</td>\n",
       "      <td>-1866.000000</td>\n",
       "      <td>-1863.000000</td>\n",
       "      <td>-1866.00000</td>\n",
       "      <td>-1781.000000</td>\n",
       "      <td>-1860.000000</td>\n",
       "      <td>-1818.000000</td>\n",
       "      <td>-1867.000000</td>\n",
       "      <td>-1743.000000</td>\n",
       "      <td>-1517.000000</td>\n",
       "      <td>-1552.000000</td>\n",
       "      <td>-1720.000000</td>\n",
       "      <td>-1864.000000</td>\n",
       "      <td>-1814.000000</td>\n",
       "      <td>-1829.000000</td>\n",
       "      <td>-1851.000000</td>\n",
       "      <td>-1840.000000</td>\n",
       "      <td>-1673.000000</td>\n",
       "      <td>...</td>\n",
       "      <td>-1867.000000</td>\n",
       "      <td>-1826.000000</td>\n",
       "      <td>-1866.000000</td>\n",
       "      <td>-1854.000000</td>\n",
       "      <td>-1789.000000</td>\n",
       "      <td>-1872.000000</td>\n",
       "      <td>-1866.000000</td>\n",
       "      <td>-1675.000000</td>\n",
       "      <td>-1778.000000</td>\n",
       "      <td>-1733.000000</td>\n",
       "      <td>-1862.000000</td>\n",
       "      <td>-1861.000000</td>\n",
       "      <td>-1857.000000</td>\n",
       "      <td>-1839.000000</td>\n",
       "      <td>-1860.000000</td>\n",
       "      <td>-1843.000000</td>\n",
       "      <td>-1863.000000</td>\n",
       "      <td>-1861.000000</td>\n",
       "      <td>-1845.000000</td>\n",
       "      <td>-1820.000000</td>\n",
       "      <td>-1864.000000</td>\n",
       "      <td>-1868.000000</td>\n",
       "      <td>-1855.000000</td>\n",
       "      <td>-1852.000000</td>\n",
       "      <td>-1870.000000</td>\n",
       "      <td>-1847.000000</td>\n",
       "      <td>-1578.000000</td>\n",
       "      <td>-1838.000000</td>\n",
       "      <td>-1763.000000</td>\n",
       "      <td>-1860.000000</td>\n",
       "      <td>-1867.000000</td>\n",
       "      <td>-1865.000000</td>\n",
       "      <td>-1642.000000</td>\n",
       "      <td>-1723.000000</td>\n",
       "      <td>-1866.000000</td>\n",
       "      <td>-1863.000000</td>\n",
       "      <td>-1781.000000</td>\n",
       "      <td>-1727.000000</td>\n",
       "      <td>-1829.000000</td>\n",
       "      <td>1.000000</td>\n",
       "    </tr>\n",
       "    <tr>\n",
       "      <th>25%</th>\n",
       "      <td>-54.000000</td>\n",
       "      <td>-55.000000</td>\n",
       "      <td>-54.000000</td>\n",
       "      <td>-54.000000</td>\n",
       "      <td>-54.000000</td>\n",
       "      <td>-54.000000</td>\n",
       "      <td>-54.000000</td>\n",
       "      <td>-55.00000</td>\n",
       "      <td>-55.00000</td>\n",
       "      <td>-54.000000</td>\n",
       "      <td>-54.000000</td>\n",
       "      <td>-54.000000</td>\n",
       "      <td>-54.000000</td>\n",
       "      <td>-54.000000</td>\n",
       "      <td>-53.000000</td>\n",
       "      <td>-53.000000</td>\n",
       "      <td>-53.000000</td>\n",
       "      <td>-52.000000</td>\n",
       "      <td>-53.000000</td>\n",
       "      <td>-53.000000</td>\n",
       "      <td>-53.000000</td>\n",
       "      <td>-53.000000</td>\n",
       "      <td>-53.000000</td>\n",
       "      <td>-52.000000</td>\n",
       "      <td>-52.000000</td>\n",
       "      <td>-52.00000</td>\n",
       "      <td>-51.000000</td>\n",
       "      <td>-50.000000</td>\n",
       "      <td>-50.000000</td>\n",
       "      <td>-50.000000</td>\n",
       "      <td>-51.000000</td>\n",
       "      <td>-52.000000</td>\n",
       "      <td>-52.000000</td>\n",
       "      <td>-51.000000</td>\n",
       "      <td>-51.000000</td>\n",
       "      <td>-51.000000</td>\n",
       "      <td>-51.000000</td>\n",
       "      <td>-51.000000</td>\n",
       "      <td>-52.000000</td>\n",
       "      <td>-52.000000</td>\n",
       "      <td>...</td>\n",
       "      <td>-54.000000</td>\n",
       "      <td>-55.000000</td>\n",
       "      <td>-55.000000</td>\n",
       "      <td>-56.000000</td>\n",
       "      <td>-56.000000</td>\n",
       "      <td>-56.000000</td>\n",
       "      <td>-55.000000</td>\n",
       "      <td>-57.000000</td>\n",
       "      <td>-55.000000</td>\n",
       "      <td>-55.000000</td>\n",
       "      <td>-54.000000</td>\n",
       "      <td>-54.000000</td>\n",
       "      <td>-53.000000</td>\n",
       "      <td>-53.000000</td>\n",
       "      <td>-53.000000</td>\n",
       "      <td>-52.000000</td>\n",
       "      <td>-52.250000</td>\n",
       "      <td>-52.000000</td>\n",
       "      <td>-52.000000</td>\n",
       "      <td>-53.000000</td>\n",
       "      <td>-52.000000</td>\n",
       "      <td>-52.000000</td>\n",
       "      <td>-52.000000</td>\n",
       "      <td>-53.000000</td>\n",
       "      <td>-54.000000</td>\n",
       "      <td>-54.000000</td>\n",
       "      <td>-55.000000</td>\n",
       "      <td>-55.000000</td>\n",
       "      <td>-55.000000</td>\n",
       "      <td>-55.000000</td>\n",
       "      <td>-55.000000</td>\n",
       "      <td>-56.000000</td>\n",
       "      <td>-56.000000</td>\n",
       "      <td>-56.000000</td>\n",
       "      <td>-55.000000</td>\n",
       "      <td>-56.000000</td>\n",
       "      <td>-55.000000</td>\n",
       "      <td>-55.000000</td>\n",
       "      <td>-55.000000</td>\n",
       "      <td>2.000000</td>\n",
       "    </tr>\n",
       "    <tr>\n",
       "      <th>50%</th>\n",
       "      <td>-8.000000</td>\n",
       "      <td>-8.000000</td>\n",
       "      <td>-7.000000</td>\n",
       "      <td>-8.000000</td>\n",
       "      <td>-8.000000</td>\n",
       "      <td>-8.000000</td>\n",
       "      <td>-8.000000</td>\n",
       "      <td>-8.00000</td>\n",
       "      <td>-7.00000</td>\n",
       "      <td>-7.000000</td>\n",
       "      <td>-8.000000</td>\n",
       "      <td>-8.000000</td>\n",
       "      <td>-8.000000</td>\n",
       "      <td>-8.000000</td>\n",
       "      <td>-7.000000</td>\n",
       "      <td>-7.000000</td>\n",
       "      <td>-6.000000</td>\n",
       "      <td>-7.000000</td>\n",
       "      <td>-6.000000</td>\n",
       "      <td>-6.000000</td>\n",
       "      <td>-7.000000</td>\n",
       "      <td>-6.000000</td>\n",
       "      <td>-6.000000</td>\n",
       "      <td>-7.000000</td>\n",
       "      <td>-7.000000</td>\n",
       "      <td>-6.00000</td>\n",
       "      <td>-6.000000</td>\n",
       "      <td>-6.000000</td>\n",
       "      <td>-5.000000</td>\n",
       "      <td>-5.000000</td>\n",
       "      <td>-5.000000</td>\n",
       "      <td>-6.000000</td>\n",
       "      <td>-6.000000</td>\n",
       "      <td>-6.000000</td>\n",
       "      <td>-6.000000</td>\n",
       "      <td>-6.000000</td>\n",
       "      <td>-6.000000</td>\n",
       "      <td>-6.000000</td>\n",
       "      <td>-7.000000</td>\n",
       "      <td>-7.000000</td>\n",
       "      <td>...</td>\n",
       "      <td>-7.000000</td>\n",
       "      <td>-8.000000</td>\n",
       "      <td>-8.000000</td>\n",
       "      <td>-8.000000</td>\n",
       "      <td>-8.000000</td>\n",
       "      <td>-8.000000</td>\n",
       "      <td>-8.000000</td>\n",
       "      <td>-9.000000</td>\n",
       "      <td>-9.000000</td>\n",
       "      <td>-9.000000</td>\n",
       "      <td>-8.000000</td>\n",
       "      <td>-8.000000</td>\n",
       "      <td>-7.000000</td>\n",
       "      <td>-7.000000</td>\n",
       "      <td>-7.000000</td>\n",
       "      <td>-7.000000</td>\n",
       "      <td>-7.000000</td>\n",
       "      <td>-7.000000</td>\n",
       "      <td>-7.000000</td>\n",
       "      <td>-7.000000</td>\n",
       "      <td>-6.000000</td>\n",
       "      <td>-7.000000</td>\n",
       "      <td>-7.000000</td>\n",
       "      <td>-7.000000</td>\n",
       "      <td>-8.000000</td>\n",
       "      <td>-8.000000</td>\n",
       "      <td>-9.000000</td>\n",
       "      <td>-9.000000</td>\n",
       "      <td>-8.000000</td>\n",
       "      <td>-8.000000</td>\n",
       "      <td>-9.000000</td>\n",
       "      <td>-10.000000</td>\n",
       "      <td>-10.000000</td>\n",
       "      <td>-10.000000</td>\n",
       "      <td>-10.000000</td>\n",
       "      <td>-9.000000</td>\n",
       "      <td>-9.000000</td>\n",
       "      <td>-9.000000</td>\n",
       "      <td>-9.000000</td>\n",
       "      <td>3.000000</td>\n",
       "    </tr>\n",
       "    <tr>\n",
       "      <th>75%</th>\n",
       "      <td>34.000000</td>\n",
       "      <td>35.000000</td>\n",
       "      <td>36.000000</td>\n",
       "      <td>36.000000</td>\n",
       "      <td>35.000000</td>\n",
       "      <td>36.000000</td>\n",
       "      <td>35.000000</td>\n",
       "      <td>36.00000</td>\n",
       "      <td>36.00000</td>\n",
       "      <td>35.250000</td>\n",
       "      <td>36.000000</td>\n",
       "      <td>35.000000</td>\n",
       "      <td>36.000000</td>\n",
       "      <td>37.000000</td>\n",
       "      <td>37.000000</td>\n",
       "      <td>38.000000</td>\n",
       "      <td>37.000000</td>\n",
       "      <td>38.000000</td>\n",
       "      <td>38.000000</td>\n",
       "      <td>39.000000</td>\n",
       "      <td>39.000000</td>\n",
       "      <td>38.000000</td>\n",
       "      <td>37.000000</td>\n",
       "      <td>38.000000</td>\n",
       "      <td>37.000000</td>\n",
       "      <td>38.00000</td>\n",
       "      <td>37.000000</td>\n",
       "      <td>38.250000</td>\n",
       "      <td>38.000000</td>\n",
       "      <td>38.000000</td>\n",
       "      <td>38.000000</td>\n",
       "      <td>38.000000</td>\n",
       "      <td>38.000000</td>\n",
       "      <td>38.000000</td>\n",
       "      <td>39.000000</td>\n",
       "      <td>39.000000</td>\n",
       "      <td>39.000000</td>\n",
       "      <td>38.000000</td>\n",
       "      <td>38.000000</td>\n",
       "      <td>37.000000</td>\n",
       "      <td>...</td>\n",
       "      <td>36.000000</td>\n",
       "      <td>35.000000</td>\n",
       "      <td>35.000000</td>\n",
       "      <td>35.000000</td>\n",
       "      <td>35.000000</td>\n",
       "      <td>35.000000</td>\n",
       "      <td>35.000000</td>\n",
       "      <td>35.000000</td>\n",
       "      <td>34.000000</td>\n",
       "      <td>35.000000</td>\n",
       "      <td>36.000000</td>\n",
       "      <td>36.000000</td>\n",
       "      <td>36.000000</td>\n",
       "      <td>37.000000</td>\n",
       "      <td>36.000000</td>\n",
       "      <td>36.000000</td>\n",
       "      <td>35.250000</td>\n",
       "      <td>36.000000</td>\n",
       "      <td>36.000000</td>\n",
       "      <td>37.000000</td>\n",
       "      <td>36.000000</td>\n",
       "      <td>36.000000</td>\n",
       "      <td>37.000000</td>\n",
       "      <td>35.000000</td>\n",
       "      <td>35.000000</td>\n",
       "      <td>34.000000</td>\n",
       "      <td>35.000000</td>\n",
       "      <td>35.000000</td>\n",
       "      <td>34.000000</td>\n",
       "      <td>35.000000</td>\n",
       "      <td>34.000000</td>\n",
       "      <td>34.000000</td>\n",
       "      <td>33.000000</td>\n",
       "      <td>33.000000</td>\n",
       "      <td>34.000000</td>\n",
       "      <td>34.000000</td>\n",
       "      <td>34.000000</td>\n",
       "      <td>34.000000</td>\n",
       "      <td>34.000000</td>\n",
       "      <td>4.000000</td>\n",
       "    </tr>\n",
       "    <tr>\n",
       "      <th>max</th>\n",
       "      <td>1726.000000</td>\n",
       "      <td>1713.000000</td>\n",
       "      <td>1697.000000</td>\n",
       "      <td>1612.000000</td>\n",
       "      <td>1518.000000</td>\n",
       "      <td>1816.000000</td>\n",
       "      <td>2047.000000</td>\n",
       "      <td>2047.00000</td>\n",
       "      <td>2047.00000</td>\n",
       "      <td>2047.000000</td>\n",
       "      <td>2047.000000</td>\n",
       "      <td>2047.000000</td>\n",
       "      <td>2047.000000</td>\n",
       "      <td>1829.000000</td>\n",
       "      <td>1631.000000</td>\n",
       "      <td>1532.000000</td>\n",
       "      <td>1441.000000</td>\n",
       "      <td>1352.000000</td>\n",
       "      <td>1504.000000</td>\n",
       "      <td>1821.000000</td>\n",
       "      <td>2022.000000</td>\n",
       "      <td>2047.000000</td>\n",
       "      <td>2040.000000</td>\n",
       "      <td>1879.000000</td>\n",
       "      <td>1666.000000</td>\n",
       "      <td>1435.00000</td>\n",
       "      <td>1340.000000</td>\n",
       "      <td>1257.000000</td>\n",
       "      <td>1452.000000</td>\n",
       "      <td>1551.000000</td>\n",
       "      <td>1446.000000</td>\n",
       "      <td>1381.000000</td>\n",
       "      <td>1259.000000</td>\n",
       "      <td>1213.000000</td>\n",
       "      <td>1364.000000</td>\n",
       "      <td>1220.000000</td>\n",
       "      <td>1304.000000</td>\n",
       "      <td>1344.000000</td>\n",
       "      <td>1298.000000</td>\n",
       "      <td>1518.000000</td>\n",
       "      <td>...</td>\n",
       "      <td>2047.000000</td>\n",
       "      <td>2047.000000</td>\n",
       "      <td>2047.000000</td>\n",
       "      <td>2045.000000</td>\n",
       "      <td>2047.000000</td>\n",
       "      <td>2047.000000</td>\n",
       "      <td>2047.000000</td>\n",
       "      <td>2047.000000</td>\n",
       "      <td>1934.000000</td>\n",
       "      <td>1644.000000</td>\n",
       "      <td>1524.000000</td>\n",
       "      <td>1565.000000</td>\n",
       "      <td>1682.000000</td>\n",
       "      <td>1977.000000</td>\n",
       "      <td>2047.000000</td>\n",
       "      <td>2047.000000</td>\n",
       "      <td>1902.000000</td>\n",
       "      <td>1681.000000</td>\n",
       "      <td>1502.000000</td>\n",
       "      <td>1314.000000</td>\n",
       "      <td>1431.000000</td>\n",
       "      <td>1543.000000</td>\n",
       "      <td>1556.000000</td>\n",
       "      <td>1597.000000</td>\n",
       "      <td>1629.000000</td>\n",
       "      <td>1726.000000</td>\n",
       "      <td>2047.000000</td>\n",
       "      <td>2047.000000</td>\n",
       "      <td>2047.000000</td>\n",
       "      <td>2047.000000</td>\n",
       "      <td>1777.000000</td>\n",
       "      <td>1472.000000</td>\n",
       "      <td>1319.000000</td>\n",
       "      <td>1436.000000</td>\n",
       "      <td>1733.000000</td>\n",
       "      <td>1958.000000</td>\n",
       "      <td>2047.000000</td>\n",
       "      <td>2047.000000</td>\n",
       "      <td>1915.000000</td>\n",
       "      <td>5.000000</td>\n",
       "    </tr>\n",
       "  </tbody>\n",
       "</table>\n",
       "<p>8 rows × 179 columns</p>\n",
       "</div>"
      ],
      "text/plain": [
       "                 X1            X2  ...          X178             y\n",
       "count  11500.000000  11500.000000  ...  11500.000000  11500.000000\n",
       "mean     -11.581391    -10.911565  ...    -12.195652      3.000000\n",
       "std      165.626284    166.059609  ...    164.852015      1.414275\n",
       "min    -1839.000000  -1838.000000  ...  -1829.000000      1.000000\n",
       "25%      -54.000000    -55.000000  ...    -55.000000      2.000000\n",
       "50%       -8.000000     -8.000000  ...     -9.000000      3.000000\n",
       "75%       34.000000     35.000000  ...     34.000000      4.000000\n",
       "max     1726.000000   1713.000000  ...   1915.000000      5.000000\n",
       "\n",
       "[8 rows x 179 columns]"
      ]
     },
     "execution_count": 53,
     "metadata": {
      "tags": []
     },
     "output_type": "execute_result"
    }
   ],
   "source": [
    "df = pd.read_csv(\"Epileptic Seizure Recognition.csv\")\n",
    "sns.countplot(df['y'],label=\"Count\")\n",
    "plt.show()\n",
    "df.describe()\n"
   ]
  },
  {
   "cell_type": "markdown",
   "metadata": {
    "id": "OdMZUdPzyBco"
   },
   "source": [
    "Yukarıda her bir sütunla ilgili genel bilgileri görebilirsiniz. Tablodan minimum, maksimum değerleri görebilirsiniz. Daha sonra, gelecekteki süreçlerimiz için veri hücrelerimizin veri türlerini görmemiz gerekiyor. Veri türlerimizi aşağıda görebilirsiniz. Veritabanında herhangi bir dönüştürmeye ihtiyacımız yok."
   ]
  },
  {
   "cell_type": "code",
   "execution_count": null,
   "metadata": {
    "colab": {
     "base_uri": "https://localhost:8080/"
    },
    "id": "ZNpGYs5gzIJP",
    "outputId": "687df2ad-2cd9-4631-db58-536f6484f899"
   },
   "outputs": [
    {
     "name": "stdout",
     "output_type": "stream",
     "text": [
      "Unnamed    object\n",
      "X1          int64\n",
      "X2          int64\n",
      "X3          int64\n",
      "X4          int64\n",
      "            ...  \n",
      "X175        int64\n",
      "X176        int64\n",
      "X177        int64\n",
      "X178        int64\n",
      "y           int64\n",
      "Length: 180, dtype: object\n"
     ]
    }
   ],
   "source": [
    "print(df.dtypes)\n"
   ]
  },
  {
   "cell_type": "markdown",
   "metadata": {
    "id": "lNq7MlhkyYtG"
   },
   "source": [
    "Amaç bölümünde belirttiğimiz gibi, sınıflarımızı 0 (epileptik nöbet yok) veya 1 (epileptik nöbet geçirme) olarak düşürmemiz gerekiyor. Nöbet olup olmadığını belirlemek için sadece iki özelliğe ihtiyacımız var. Aşağıdaki grafikten nöbet geçirip geçirmeme dağılımını görebilirsiniz. Grafikten görüyoruz ki nöbet geçirmeyenler 4 nöbet geçirenlere göre 4 kat daha fazla."
   ]
  },
  {
   "cell_type": "code",
   "execution_count": null,
   "metadata": {
    "colab": {
     "base_uri": "https://localhost:8080/",
     "height": 333
    },
    "id": "bIIzpZh2zcm9",
    "outputId": "b2d3e3c7-5882-485c-e69b-8210fe40567b"
   },
   "outputs": [
    {
     "name": "stderr",
     "output_type": "stream",
     "text": [
      "/usr/local/lib/python3.7/dist-packages/seaborn/_decorators.py:43: FutureWarning: Pass the following variable as a keyword arg: x. From version 0.12, the only valid positional argument will be `data`, and passing other arguments without an explicit keyword will result in an error or misinterpretation.\n",
      "  FutureWarning\n"
     ]
    },
    {
     "data": {
      "image/png": "[encoded data removed]",
      "text/plain": [
       "<Figure size 432x288 with 1 Axes>"
      ]
     },
     "metadata": {
      "needs_background": "light",
      "tags": []
     },
     "output_type": "display_data"
    }
   ],
   "source": [
    "#change values to have epileptic seizure or not \n",
    "df['y'] = np.where(df['y'] >1, 0,  1)\n",
    "df.y.value_counts()\n",
    "df_type = df.y\n",
    "sns.countplot(df.y,label=\"Count\")\n",
    "plt.show()\n"
   ]
  },
  {
   "cell_type": "markdown",
   "metadata": {
    "id": "nqcRgLxhpGMq"
   },
   "source": [
    "## Verilerin Hazırlanması<a class=\"anchor\" id=\"data_preparation\"></a>"
   ]
  },
  {
   "cell_type": "code",
   "execution_count": null,
   "metadata": {
    "colab": {
     "base_uri": "https://localhost:8080/"
    },
    "id": "aXufzEht0arW",
    "outputId": "3cd7bfe4-c8f1-4972-e74e-2208809a3499"
   },
   "outputs": [
    {
     "data": {
      "text/plain": [
       "Unnamed    0\n",
       "X1         0\n",
       "X2         0\n",
       "X3         0\n",
       "X4         0\n",
       "          ..\n",
       "X175       0\n",
       "X176       0\n",
       "X177       0\n",
       "X178       0\n",
       "y          0\n",
       "Length: 180, dtype: int64"
      ]
     },
     "execution_count": 56,
     "metadata": {
      "tags": []
     },
     "output_type": "execute_result"
    }
   ],
   "source": [
    "df.isnull().sum()"
   ]
  },
  {
   "cell_type": "markdown",
   "metadata": {
    "id": "7IbEZkggz1t9"
   },
   "source": [
    "Öncelikle sınıf sütunumuzu bırakıp yeni bir dataframe'e atamamız gerekiyor. İleriki süreçlerde, tahmin edilen değerleri karşılaştırmak için bu sütuna ihtiyacımız var. Verimizde eksik değer bulunmadığından herhangi bir satır düşürmedik. Yukarıda görebilirsiniz."
   ]
  },
  {
   "cell_type": "code",
   "execution_count": null,
   "metadata": {
    "id": "gSVhVQfBpGMk"
   },
   "outputs": [],
   "source": [
    "df.head(20)\n",
    "df_droppep = df.drop([\"y\",\"Unnamed\"],axis = 1)\n"
   ]
  },
  {
   "cell_type": "markdown",
   "metadata": {
    "id": "ANsaef6705sV"
   },
   "source": [
    "### Kolonlar arası ilişki\n",
    "Aşağıda yer alan heatmap'den sütunlar arasındaki korelasyonları görebiliriz. Bu heatmap'i önce silinen sütunlara koyarız, ancak daha sonra genellikle kolonlar arasında yüksek ilişkiler yoktur, bu yüzden hepsini korumayı seçiyoruz. Bu sorunu daha sonra ele alacağız. "
   ]
  },
  {
   "cell_type": "code",
   "execution_count": null,
   "metadata": {
    "colab": {
     "base_uri": "https://localhost:8080/",
     "height": 387
    },
    "id": "Ap-mzlH1pGMs",
    "outputId": "df291369-94b9-4ff0-bdbb-57350c193d89"
   },
   "outputs": [
    {
     "name": "stdout",
     "output_type": "stream",
     "text": [
      "    X1   X2   X3   X4   X5   X6   X7  ...  X172  X173  X174  X175  X176  X177  X178\n",
      "0  135  190  229  223  192  125   55  ...   -31   -77  -103  -127  -116   -83   -51\n",
      "1  386  382  356  331  320  315  307  ...   146   152   157   156   154   143   129\n",
      "2  -32  -39  -47  -37  -32  -36  -57  ...    48    19   -12   -30   -35   -35   -36\n",
      "\n",
      "[3 rows x 178 columns]\n"
     ]
    },
    {
     "data": {
      "image/png": "[encoded data removed]",
      "text/plain": [
       "<Figure size 432x288 with 2 Axes>"
      ]
     },
     "metadata": {
      "needs_background": "light",
      "tags": []
     },
     "output_type": "display_data"
    }
   ],
   "source": [
    "label_encoder = LabelEncoder()\n",
    "df.iloc[:,0] = label_encoder.fit_transform(df.iloc[:,0])\n",
    "corr = df_droppep.corr()\n",
    "sns.heatmap(corr)\n",
    "print(df_droppep.head(3))"
   ]
  },
  {
   "cell_type": "markdown",
   "metadata": {
    "id": "npkR3Wq7pGMx"
   },
   "source": [
    "Verilerimizi normalleştirmemiz gerekiyor çünkü veri setimizde çok sayıda negatif değer var. Hatalar yaratabilir veya istenmeyen tahminler sağlayabilir. Verimiz için Min-max normalizasyonu seçiyoruz.\n",
    "*   **Min-max normalization** ayrıca min-maks ölçeklendirme veya min-maks normalleştirme olarak da bilinir, en basit yöntemdir ve aralığı [0, 1] veya [−1, 1] 'de ölçeklendirmek için özellik aralığının yeniden ölçeklendirilmesinden oluşur.\n",
    "Hedef aralığın seçilmesi verilerin yapısına bağlıdır. Genel formül\n",
    "olarak verilen: 𝑥'=𝑥−𝑚𝑖𝑛(𝑥)/(𝑚𝑎𝑥(𝑥)−𝑚𝑖𝑛(𝑥))\n",
    "burada \" x \" orijinal değerdir, \" x' \" ler normalleştirilmiş değerdir.\n",
    "\n",
    "Verilerimizin MinMaxScaler ile  nasıl değiştiğini görebilirsiniz.\n",
    "\n",
    "\n"
   ]
  },
  {
   "cell_type": "code",
   "execution_count": null,
   "metadata": {
    "colab": {
     "base_uri": "https://localhost:8080/"
    },
    "id": "PXaCg0CJpGMy",
    "outputId": "60ad1dc1-2c31-49e4-fdd1-bbaa396f24e1"
   },
   "outputs": [
    {
     "name": "stdout",
     "output_type": "stream",
     "text": [
      "    X1   X2   X3   X4   X5   X6   X7  ...  X172  X173  X174  X175  X176  X177  X178\n",
      "0  135  190  229  223  192  125   55  ...   -31   -77  -103  -127  -116   -83   -51\n",
      "1  386  382  356  331  320  315  307  ...   146   152   157   156   154   143   129\n",
      "2  -32  -39  -47  -37  -32  -36  -57  ...    48    19   -12   -30   -35   -35   -36\n",
      "3 -105 -101  -96  -92  -89  -95 -102  ...   -80   -77   -85   -77   -72   -69   -65\n",
      "4   -9  -65  -98 -102  -78  -48  -16  ...   -12   -32   -41   -65   -83   -89   -73\n",
      "\n",
      "[5 rows x 178 columns]\n",
      "        0         1         2    ...       175       176       177\n",
      "0  0.553717  0.571107  0.584371  ...  0.434953  0.435612  0.474893\n",
      "1  0.624123  0.625176  0.620328  ...  0.505486  0.495495  0.522970\n",
      "2  0.506872  0.506618  0.506229  ...  0.456113  0.448331  0.478900\n",
      "3  0.486396  0.489158  0.492356  ...  0.446447  0.439322  0.471154\n",
      "4  0.513324  0.499296  0.491789  ...  0.443574  0.434022  0.469017\n",
      "\n",
      "[5 rows x 178 columns]\n"
     ]
    }
   ],
   "source": [
    "scalar = MinMaxScaler() \n",
    "scalar.fit(df_droppep)\n",
    "ND = scalar.transform(df_droppep)\n",
    "ND = pd.DataFrame(ND)\n",
    "print(df_droppep.head())\n",
    "print(ND.head())\n"
   ]
  },
  {
   "cell_type": "markdown",
   "metadata": {
    "id": "2ebDW7Pl9xkV"
   },
   "source": [
    "\n",
    "## Modelleme <a class=\"anchor\" id=\"classificationmodel\"></a>"
   ]
  },
  {
   "cell_type": "code",
   "execution_count": null,
   "metadata": {
    "id": "f0t3y0Gh-iY8"
   },
   "outputs": [],
   "source": [
    "class_X = df_droppep.copy()\n",
    "class_y = df_type\n",
    "X_train,X_test,y_train,y_test = train_test_split(class_X,class_y,test_size =0.30)\n",
    "scaler = MinMaxScaler()\n",
    "X_train = scaler.fit_transform(X_train)\n",
    "X_test = scaler.transform(X_test)"
   ]
  },
  {
   "cell_type": "markdown",
   "metadata": {
    "id": "osXXZDxS-hVD"
   },
   "source": [
    "Önce eğitim ve test değerlerimiz için verilerimizi %70 ve %30'a böldük. Tüm sınıflandırıcı yöntemlere aynı işlemi almak için dizi oluşturuyoruz. Eğitim ve test verilerimizle 5 farklı sınıflandırma modeli karşılaştırıyoruz. Bu yöntemler hakkında küçük açıklamalar verelim.\n",
    "\n",
    "\n",
    "* XGBoost, eXtreme Gradient Boosting anlamına gelir;\n",
    "gradient boosted decision trees algoritmasına dayalı algoritma. XGBoost, overfittingi azaltmak için daha iyi bir düzenleme tekniği uygular ve gradyan artırmanın farklarından biridir.\n",
    "---\n",
    "* Uygulama libsvm'ye dayanmaktadır. Uyum süresi, numune sayısı ile en azından ikinci dereceden ölçeklenir ve on binlerce numunenin fazlasında pratik olmayabilir. Büyük veri kümeleri için, muhtemelen bir Nystroem transformatöründen sonra, LinearSVC veya SGDClassifier kullanmayı düşünün.\n",
    "---\n",
    "*  Karar ağacı, bir iç düğümün özelliği (veya özniteliği) temsil ettiği, dalın bir karar kuralını temsil ettiği ve her düğümün sonucu temsil ettiği akış şemasına benzer bir ağaç yapısıdır. Bir karar ağacındaki en üst düğüm, kök düğüm olarak bilinir. Öznitelik değerine göre bölümlemeyi öğrenir. Ağacı, özyinelemeli bölümleme çağrısı ile özyinelemeli olarak böler.\n",
    "---\n",
    "*   Random forests ya da random decision forests, eğitim zamanında çok sayıda karar ağacı oluşturarak ve sınıfların modu (sınıflandırma) veya bireyin ortalama / ortalama tahmini (regresyon) olan sınıfı çıkararak çalışan sınıflandırma, regresyon ve diğer görevler için toplu bir öğrenme yöntemidir. ağaçlar.\n",
    "---\n",
    "*   KNN parametrik olmayan ve tembel bir öğrenme algoritmasıdır. Parametrik olmayan, temel veri dağıtımı için herhangi bir varsayım olmadığı anlamına gelir. Başka bir deyişle, veri setinden belirlenen model yapısı. Bu, gerçek dünyadaki veri kümelerinin çoğunun matematiksel teorik varsayımları takip etmediği uygulamada çok yardımcı olacaktır.\n",
    "---\n",
    "Yukarıda gördüğünüz gibi sınıflandırma yöntemlerinden bahsetmiştik. Bunları aşağıda karşılaştırıyoruz. Veri setimiz için en iyi doğruluk noktasını sağlayan en iyi yöntemi seçmemiz gerekiyor."
   ]
  },
  {
   "cell_type": "code",
   "execution_count": null,
   "metadata": {
    "colab": {
     "base_uri": "https://localhost:8080/"
    },
    "id": "ae7KimYqEFHX",
    "outputId": "eb57c0be-7c89-4a05-b83d-7e54876c5d1f"
   },
   "outputs": [
    {
     "name": "stdout",
     "output_type": "stream",
     "text": [
      "Accuracy of XGBClassifier(base_score=0.5, booster='gbtree', colsample_bylevel=1,\n",
      "              colsample_bynode=1, colsample_bytree=1, gamma=0,\n",
      "              learning_rate=0.1, max_delta_step=0, max_depth=3,\n",
      "              min_child_weight=1, missing=None, n_estimators=100, n_jobs=1,\n",
      "              nthread=None, objective='binary:logistic', random_state=0,\n",
      "              reg_alpha=0, reg_lambda=1, scale_pos_weight=1, seed=None,\n",
      "              silent=None, subsample=1, verbosity=1) is 0.9623188405797102\n",
      "********************************\n",
      "Accuracy of SVC(C=1.0, break_ties=False, cache_size=200, class_weight=None, coef0=0.0,\n",
      "    decision_function_shape='ovr', degree=3, gamma='scale', kernel='rbf',\n",
      "    max_iter=-1, probability=False, random_state=None, shrinking=True,\n",
      "    tol=0.001, verbose=False) is 0.9669565217391304\n",
      "********************************\n",
      "Accuracy of DecisionTreeClassifier(ccp_alpha=0.0, class_weight=None, criterion='gini',\n",
      "                       max_depth=None, max_features=None, max_leaf_nodes=None,\n",
      "                       min_impurity_decrease=0.0, min_impurity_split=None,\n",
      "                       min_samples_leaf=1, min_samples_split=2,\n",
      "                       min_weight_fraction_leaf=0.0, presort='deprecated',\n",
      "                       random_state=None, splitter='best') is 0.9359420289855073\n",
      "********************************\n",
      "Accuracy of RandomForestClassifier(bootstrap=True, ccp_alpha=0.0, class_weight=None,\n",
      "                       criterion='gini', max_depth=None, max_features='auto',\n",
      "                       max_leaf_nodes=None, max_samples=None,\n",
      "                       min_impurity_decrease=0.0, min_impurity_split=None,\n",
      "                       min_samples_leaf=1, min_samples_split=2,\n",
      "                       min_weight_fraction_leaf=0.0, n_estimators=100,\n",
      "                       n_jobs=None, oob_score=False, random_state=None,\n",
      "                       verbose=0, warm_start=False) is 0.9744927536231884\n",
      "********************************\n",
      "Accuracy of KNeighborsClassifier(algorithm='auto', leaf_size=30, metric='minkowski',\n",
      "                     metric_params=None, n_jobs=None, n_neighbors=5, p=2,\n",
      "                     weights='uniform') is 0.9228985507246377\n",
      "********************************\n"
     ]
    }
   ],
   "source": [
    "classifiers = []\n",
    "model1 = xgboost.XGBClassifier()\n",
    "classifiers.append(model1)\n",
    "model2 = svm.SVC()\n",
    "classifiers.append(model2)\n",
    "model3 = tree.DecisionTreeClassifier()\n",
    "classifiers.append(model3)\n",
    "model4 = RandomForestClassifier()\n",
    "classifiers.append(model4)\n",
    "model5 = KNeighborsClassifier()\n",
    "classifiers.append(model5)\n",
    "\n",
    "\n",
    "for clf in classifiers:\n",
    "    clf.fit(X_train, y_train)\n",
    "    y_pred= clf.predict(X_test)\n",
    "    acc = accuracy_score(y_test, y_pred)\n",
    "    print(\"Accuracy of %s is %s\"%(clf, acc))\n",
    "    print(\"********************************\")\n"
   ]
  },
  {
   "cell_type": "markdown",
   "metadata": {
    "id": "9AVwmBLfJehp"
   },
   "source": [
    "Verisetindeki tahminlerimiz için en yüksek nokta 0.9759420289855072 ile Random forests sınıflandırmasını seçtik. Bizim açımızdan bu sınıflandırma yöntemi bize en iyi noktayı veriyor çünkü tahmin için 2 sınıfa ihtiyacımız var. Random forests sınıflandırmasını kullanma avantajlarımız aşağıdaki gibidir:\n",
    "\n",
    "\n",
    "*   Random forests sürece katılan karar ağaçlarının sayısı nedeniyle oldukça doğru ve sağlam bir yöntem olarak kabul edilmektedir.\n",
    "*   Overfitting problemi olmaz. Ana sebep şu ki\n",
    "önyargıları ortadan kaldıran tüm tahminlerin ortalamasını alır.\n",
    "*  Sınıflandırıcı için en önem arzeden kolonları seçmeye yardımcı olur.\n",
    "\n",
    "\n",
    "Veri kümemizde çok sayıda sütunumuz var, bu nedenle daha kaliteli sonuçlar elde etmek için bunları birleştirmemiz gerekiyor. Bunun için PCA yöntemini kullanacağız.\n",
    "*   Gerçek bir koordinat uzayındaki bir nokta koleksiyonunun temel bileşenleri, bir dizi p birim vektörleridir; burada i-inci vektör, ilk i-1 vektörlerine ortogonal iken verilere en iyi uyan bir doğrunun yönüdür.\n",
    "\n",
    "\n",
    "Bileşenler için ilk grafiği ve ardışık düzenimiz için kaç bileşen oluşturacağımızı seçmek için varyansı yazdırıyoruz. Grafikten de görebileceğiniz gibi, 30 ile 50 arasında bileşen sayısında dirseğimiz var. Dolayısıyla, boru hattı yapımız için 45 bileşen seçebiliriz.\n",
    "\n"
   ]
  },
  {
   "cell_type": "code",
   "execution_count": null,
   "metadata": {
    "colab": {
     "base_uri": "https://localhost:8080/",
     "height": 279
    },
    "id": "GqQ67_lCJtSV",
    "outputId": "75f771ae-62b6-4711-887d-81aa33cfca59"
   },
   "outputs": [
    {
     "data": {
      "image/png": "[encoded data removed]",
      "text/plain": [
       "<Figure size 432x288 with 1 Axes>"
      ]
     },
     "metadata": {
      "needs_background": "light",
      "tags": []
     },
     "output_type": "display_data"
    }
   ],
   "source": [
    "from sklearn.decomposition import PCA\n",
    "from sklearn.pipeline import Pipeline\n",
    "\n",
    "pca = PCA(whiten= True).fit(df_droppep)\n",
    "plt.plot(np.cumsum(pca.explained_variance_ratio_))\n",
    "plt.xlabel('Number Of Components')\n",
    "plt.ylabel(\"Cumulative explained variance\")\n",
    "plt.show()"
   ]
  },
  {
   "cell_type": "markdown",
   "metadata": {
    "id": "Oakw4Fed82D3"
   },
   "source": [
    "\n",
    "Ardışık düzenimizi PCA ve RandomForestClassifier yöntemleri ile oluşturuyoruz. 45 bileşenli PCA. Ayrıca iki sınıflandırma yöntemi arasındaki farkı görmek istiyoruz. Bu nedenle, ana sınıflandırıcı yöntemimizle karşılaştırmak için SVC'yi seçiyoruz.\n",
    "\n",
    "\n"
   ]
  },
  {
   "cell_type": "code",
   "execution_count": null,
   "metadata": {
    "id": "9vcZheS5QHrG"
   },
   "outputs": [],
   "source": [
    "pipe = Pipeline([('pca', PCA(n_components = 45)),('forest', RandomForestClassifier())])\n",
    "pipe.fit(X_train,y_train)\n",
    "y_pred = pipe.predict(X_test)\n",
    "\n",
    "\n",
    "\n",
    "rfc = RandomForestClassifier()\n",
    "rfc.fit(X_train,y_train)\n",
    "y_pred_vPCA = rfc.predict(X_test)"
   ]
  },
  {
   "cell_type": "code",
   "execution_count": null,
   "metadata": {
    "colab": {
     "base_uri": "https://localhost:8080/",
     "height": 279
    },
    "id": "xAPBhBzzpDv6",
    "outputId": "66ae0571-193e-463e-dda9-ffb7afac7731"
   },
   "outputs": [
    {
     "data": {
      "image/png": "[encoded data removed]",
      "text/plain": [
       "<Figure size 432x288 with 1 Axes>"
      ]
     },
     "metadata": {
      "needs_background": "light",
      "tags": []
     },
     "output_type": "display_data"
    }
   ],
   "source": [
    "pipe2 = Pipeline([('pca', PCA(n_components = 45)),('SVC', SVC(random_state=42))])\n",
    "pipe.fit(X_train,y_train)\n",
    "y_pred_svc = pipe.predict(X_test)\n",
    "svc_disp = plot_roc_curve(svc, X_test, y_test)\n",
    "plt.show()\n"
   ]
  },
  {
   "cell_type": "markdown",
   "metadata": {
    "id": "1Vxg2ptipGNZ"
   },
   "source": [
    "## Değerlendirme<a class=\"anchor\" id=\"evaluation\"></a>"
   ]
  },
  {
   "cell_type": "code",
   "execution_count": null,
   "metadata": {
    "colab": {
     "base_uri": "https://localhost:8080/",
     "height": 296
    },
    "id": "jpLkiP1xpGNa",
    "outputId": "230ada39-db84-418c-9928-d2e3004df863"
   },
   "outputs": [
    {
     "data": {
      "image/png": "[encoded data removed]",
      "text/plain": [
       "<Figure size 432x288 with 2 Axes>"
      ]
     },
     "metadata": {
      "needs_background": "light",
      "tags": []
     },
     "output_type": "display_data"
    }
   ],
   "source": [
    "mat = confusion_matrix(y_test, y_pred)\n",
    "sns.heatmap(mat.T,square = True , annot = True, fmt = 'd')\n",
    "plt.title(\"RandomForestClassifier Normalized Visualization with PCA\")\n",
    "plt.xlabel('y_test')\n",
    "plt.ylabel('predicted class')\n",
    "plt.show()"
   ]
  },
  {
   "cell_type": "code",
   "execution_count": null,
   "metadata": {
    "colab": {
     "base_uri": "https://localhost:8080/",
     "height": 296
    },
    "id": "zy7opkiPqa81",
    "outputId": "56c770de-1b29-4ed7-8098-c2d58c772080"
   },
   "outputs": [
    {
     "data": {
      "image/png": "[encoded data removed]",
      "text/plain": [
       "<Figure size 432x288 with 2 Axes>"
      ]
     },
     "metadata": {
      "needs_background": "light",
      "tags": []
     },
     "output_type": "display_data"
    }
   ],
   "source": [
    "mat = confusion_matrix(y_test, y_pred_vPCA)\n",
    "sns.heatmap(mat.T,square = True , annot = True, fmt = 'd')\n",
    "plt.title(\"RandomForestClassifier Normalized Visualization without PCA\")\n",
    "plt.xlabel('y_test')\n",
    "plt.ylabel('predicted class')\n",
    "plt.show()"
   ]
  },
  {
   "cell_type": "code",
   "execution_count": null,
   "metadata": {
    "colab": {
     "base_uri": "https://localhost:8080/",
     "height": 296
    },
    "id": "itInzRfVS9se",
    "outputId": "214bcad4-f6d4-4574-a5dd-8179e0c7ce35"
   },
   "outputs": [
    {
     "data": {
      "image/png": "[encoded data removed]",
      "text/plain": [
       "<Figure size 432x288 with 2 Axes>"
      ]
     },
     "metadata": {
      "needs_background": "light",
      "tags": []
     },
     "output_type": "display_data"
    }
   ],
   "source": [
    "mat = confusion_matrix(y_test, y_pred_svc)\n",
    "sns.heatmap(mat.T,square = True , annot = True, fmt = 'd')\n",
    "plt.title(\"SVC Normalized Visualization with PCA\")\n",
    "plt.xlabel('y_test')\n",
    "plt.ylabel('predicted class')\n",
    "plt.show()"
   ]
  },
  {
   "cell_type": "markdown",
   "metadata": {
    "id": "OA-dJVmFpGNy"
   },
   "source": [
    "Evaluate your model. Provide results, tables, charts, etc.\n",
    "\n",
    "\n"
   ]
  },
  {
   "cell_type": "code",
   "execution_count": null,
   "metadata": {
    "colab": {
     "base_uri": "https://localhost:8080/",
     "height": 594
    },
    "id": "qREn94uEpGNy",
    "outputId": "882124f7-621f-437d-a8dc-6e4a53bbb648"
   },
   "outputs": [
    {
     "data": {
      "image/png": "[encoded data removed]",
      "text/plain": [
       "<Figure size 900x600 with 1 Axes>"
      ]
     },
     "metadata": {
      "needs_background": "light",
      "tags": []
     },
     "output_type": "display_data"
    }
   ],
   "source": [
    "from sklearn.metrics import roc_curve, auc\n",
    "rf_clf = RandomForestClassifier(n_estimators=100)\n",
    "rf_clf.fit(X_train, y_train)\n",
    "\n",
    "probas = rf_clf.predict_proba(X_test)\n",
    "fpr, tpr, thresholds = roc_curve(y_test, probas[:,0], pos_label=0)\n",
    "roc_auc = auc(fpr, tpr)\n",
    "plt.figure(dpi=150)\n",
    "plt.plot(fpr, tpr, lw=1, color='green', label=f'AUC = {roc_auc:.3f}')\n",
    "plt.title('ROC Curve for RF classifier')\n",
    "plt.xlabel('False Positive Rate')\n",
    "plt.ylabel('True Positive Rate (Recall)')\n",
    "plt.xlim([-0.05, 1.05])\n",
    "plt.ylim([-0.05, 1.05])\n",
    "plt.legend()\n",
    "plt.show()\n"
   ]
  },
  {
   "cell_type": "code",
   "execution_count": null,
   "metadata": {
    "colab": {
     "base_uri": "https://localhost:8080/",
     "height": 279
    },
    "id": "7rnJVqKNqK5P",
    "outputId": "fe331a02-5342-48d9-b67b-76099c93b6b2"
   },
   "outputs": [
    {
     "data": {
      "image/png": "[encoded data removed]",
      "text/plain": [
       "<Figure size 432x288 with 1 Axes>"
      ]
     },
     "metadata": {
      "needs_background": "light",
      "tags": []
     },
     "output_type": "display_data"
    }
   ],
   "source": [
    "ax = plt.gca()\n",
    "rfc_disp = plot_roc_curve(rfc, X_test, y_test, ax=ax, alpha=0.8)\n",
    "svc_disp.plot(ax=ax, alpha=0.8)\n",
    "plt.show()\n"
   ]
  },
  {
   "cell_type": "markdown",
   "metadata": {
    "id": "TIL3KTG8qRsa"
   },
   "source": [
    "İki sınıflandırma yöntemini auc skoru ile karşılaştırıyoruz. Daha iyi doğruluğu için daha önce rastgele orman sınıflandırıcısını seçtik. Ancak performanslarında farklılıklar göstermek istiyoruz. Isı haritaları arasındaki farklılıkları da görebilirsiniz. Svc ve randomforest sınıflandırıcı arasında çok az fark vardır."
   ]
  },
  {
   "cell_type": "markdown",
   "metadata": {
    "id": "e-4dIZj6pGN4"
   },
   "source": [
    "## Referanslar<a class=\"anchor\" id=\"references\"></a>"
   ]
  },
  {
   "cell_type": "markdown",
   "metadata": {
    "id": "i9WaoKuZpGN_"
   },
   "source": [
    "**Çalışmamız sırasında kullandığımız tüm kaynaklar.**"
   ]
  },
  {
   "cell_type": "markdown",
   "metadata": {
    "id": "a6b9oj0A2lsl"
   },
   "source": [
    "\n",
    "*   https://www.kaggle.com/jaketuricchi/using-pca-and-clustering-to-improve-classification\n",
    "*   https://machinelearningmastery.com/calculate-feature-importance-with-python/#:~:text=Feature%20importance%20refers%20to%20techniques,at%20predicting%20a%20target%20variable.\n",
    "*   https://www.datacamp.com/community/tutorials/random-forests-classifier-python\n",
    "*   https://scikit-learn.org/stable/modules/generated/sklearn.metrics.accuracy_score.html\n",
    "*   https://www.analyseup.com/learn-python-for-data-science/python-random-forest-feature-importance-plot.html\n",
    "*   https://www.kdnuggets.com/2017/06/7-steps-mastering-data-preparation-python.html\n",
    "*   https://www.kaggle.com/harunshimanto/epileptic-seizure-recognition\n",
    "*   https://www.healthline.com/health/epilepsy\n",
    "*   https://www.datatechnotes.com/2019/07/classification-example-with.html\n",
    "*   https://scikit-learn.org/stable/modules/generated/sklearn.svm.SVC.html\n",
    "*   https://www.datacamp.com/community/tutorials/decision-tree-classification-python\n",
    "*   https://en.wikipedia.org/wiki/Principal_component_analysis\n",
    "*   https://medium.com/@gulcanogundur/pca-principal-component-analysis-temel-bile%C5%9Fenler-analizi-bf9098751c62\n",
    "\n",
    "\n",
    "\n",
    "\n"
   ]
  },
  {
   "cell_type": "markdown",
   "metadata": {
    "id": "qe-ObfH2pGOH"
   },
   "source": [
    "\n",
    "**Disclaimer!** <font color='grey'>Bu notebook Ozar Ömer Uncu ve Uğurcan Bağrıyanık tarafından **BBM469 - Veri Yoğunluklu Uygulamalar Laboratuvarı** dersi için hazırlandı. Yalnızca eğitim amaçlıdır. Öğrenci çalışması olduğu için sağlanan içeriğin doğruluğu konusunda herhangi bir garanti yoktur.\n",
    "\n",
    "Herhangi bir telif hakkı ihlali olduğunu düşünüyorsanız, lütfen bize [bildirin](https://forms.gle/BNNRB2kR8ZHVEREq8). \n",
    "</font>"
   ]
  }
 ],
 "metadata": {
  "colab": {
   "collapsed_sections": [],
   "name": "Dscps.ipynb",
   "provenance": [],
   "toc_visible": true
  },
  "kernelspec": {
   "display_name": "Python 3",
   "language": "python",
   "name": "python3"
  },
  "language_info": {
   "codemirror_mode": {
    "name": "ipython",
    "version": 3
   },
   "file_extension": ".py",
   "mimetype": "text/x-python",
   "name": "python",
   "nbconvert_exporter": "python",
   "pygments_lexer": "ipython3",
   "version": "3.9.4"
  }
 },
 "nbformat": 4,
 "nbformat_minor": 1
}
